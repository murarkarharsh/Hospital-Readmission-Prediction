{
 "cells": [
  {
   "cell_type": "code",
   "execution_count": 1,
   "metadata": {
    "id": "LStbu9ttI5mo"
   },
   "outputs": [],
   "source": [
    "import numpy as np\n",
    "import pandas as pd\n",
    "import matplotlib.pyplot as plt\n",
    "import seaborn as sns\n",
    "from sklearn.model_selection import train_test_split"
   ]
  },
  {
   "cell_type": "code",
   "execution_count": 2,
   "metadata": {},
   "outputs": [],
   "source": [
    "import warnings\n",
    "warnings.filterwarnings('ignore')"
   ]
  },
  {
   "cell_type": "code",
   "execution_count": 3,
   "metadata": {
    "colab": {
     "base_uri": "https://localhost:8080/",
     "height": 309
    },
    "id": "iAJfTbteLlZZ",
    "outputId": "87622c2a-4026-4252-f1ef-745b459ea41a"
   },
   "outputs": [
    {
     "data": {
      "text/html": [
       "<div>\n",
       "<style scoped>\n",
       "    .dataframe tbody tr th:only-of-type {\n",
       "        vertical-align: middle;\n",
       "    }\n",
       "\n",
       "    .dataframe tbody tr th {\n",
       "        vertical-align: top;\n",
       "    }\n",
       "\n",
       "    .dataframe thead th {\n",
       "        text-align: right;\n",
       "    }\n",
       "</style>\n",
       "<table border=\"1\" class=\"dataframe\">\n",
       "  <thead>\n",
       "    <tr style=\"text-align: right;\">\n",
       "      <th></th>\n",
       "      <th>index</th>\n",
       "      <th>encounter_id</th>\n",
       "      <th>patient_id</th>\n",
       "      <th>race</th>\n",
       "      <th>gender</th>\n",
       "      <th>age</th>\n",
       "      <th>weight</th>\n",
       "      <th>time_in_hospital</th>\n",
       "      <th>medical_specialty</th>\n",
       "      <th>num_lab_procedures</th>\n",
       "      <th>...</th>\n",
       "      <th>X19</th>\n",
       "      <th>X20</th>\n",
       "      <th>X21</th>\n",
       "      <th>X22</th>\n",
       "      <th>X23</th>\n",
       "      <th>X24</th>\n",
       "      <th>X25</th>\n",
       "      <th>change</th>\n",
       "      <th>diabetesMed</th>\n",
       "      <th>readmitted</th>\n",
       "    </tr>\n",
       "  </thead>\n",
       "  <tbody>\n",
       "    <tr>\n",
       "      <td>0</td>\n",
       "      <td>69375</td>\n",
       "      <td>197029140</td>\n",
       "      <td>51521940</td>\n",
       "      <td>Hispanic</td>\n",
       "      <td>Male</td>\n",
       "      <td>[80-90)</td>\n",
       "      <td>?</td>\n",
       "      <td>4</td>\n",
       "      <td>Emergency/Trauma</td>\n",
       "      <td>39</td>\n",
       "      <td>...</td>\n",
       "      <td>No</td>\n",
       "      <td>No</td>\n",
       "      <td>No</td>\n",
       "      <td>No</td>\n",
       "      <td>No</td>\n",
       "      <td>No</td>\n",
       "      <td>No</td>\n",
       "      <td>No</td>\n",
       "      <td>Yes</td>\n",
       "      <td>1</td>\n",
       "    </tr>\n",
       "    <tr>\n",
       "      <td>1</td>\n",
       "      <td>57272</td>\n",
       "      <td>163571946</td>\n",
       "      <td>92631357</td>\n",
       "      <td>Caucasian</td>\n",
       "      <td>Male</td>\n",
       "      <td>[60-70)</td>\n",
       "      <td>?</td>\n",
       "      <td>3</td>\n",
       "      <td>Emergency/Trauma</td>\n",
       "      <td>34</td>\n",
       "      <td>...</td>\n",
       "      <td>No</td>\n",
       "      <td>No</td>\n",
       "      <td>No</td>\n",
       "      <td>No</td>\n",
       "      <td>No</td>\n",
       "      <td>No</td>\n",
       "      <td>No</td>\n",
       "      <td>No</td>\n",
       "      <td>No</td>\n",
       "      <td>0</td>\n",
       "    </tr>\n",
       "    <tr>\n",
       "      <td>2</td>\n",
       "      <td>82347</td>\n",
       "      <td>256497366</td>\n",
       "      <td>30023982</td>\n",
       "      <td>Caucasian</td>\n",
       "      <td>Female</td>\n",
       "      <td>[50-60)</td>\n",
       "      <td>?</td>\n",
       "      <td>6</td>\n",
       "      <td>Nephrology</td>\n",
       "      <td>50</td>\n",
       "      <td>...</td>\n",
       "      <td>No</td>\n",
       "      <td>Down</td>\n",
       "      <td>No</td>\n",
       "      <td>No</td>\n",
       "      <td>No</td>\n",
       "      <td>No</td>\n",
       "      <td>No</td>\n",
       "      <td>Ch</td>\n",
       "      <td>Yes</td>\n",
       "      <td>1</td>\n",
       "    </tr>\n",
       "    <tr>\n",
       "      <td>3</td>\n",
       "      <td>89608</td>\n",
       "      <td>289891212</td>\n",
       "      <td>93606021</td>\n",
       "      <td>AfricanAmerican</td>\n",
       "      <td>Female</td>\n",
       "      <td>[70-80)</td>\n",
       "      <td>?</td>\n",
       "      <td>5</td>\n",
       "      <td>?</td>\n",
       "      <td>63</td>\n",
       "      <td>...</td>\n",
       "      <td>No</td>\n",
       "      <td>Down</td>\n",
       "      <td>No</td>\n",
       "      <td>No</td>\n",
       "      <td>No</td>\n",
       "      <td>No</td>\n",
       "      <td>No</td>\n",
       "      <td>Ch</td>\n",
       "      <td>Yes</td>\n",
       "      <td>1</td>\n",
       "    </tr>\n",
       "    <tr>\n",
       "      <td>4</td>\n",
       "      <td>24091</td>\n",
       "      <td>81873900</td>\n",
       "      <td>23464296</td>\n",
       "      <td>Caucasian</td>\n",
       "      <td>Male</td>\n",
       "      <td>[70-80)</td>\n",
       "      <td>?</td>\n",
       "      <td>9</td>\n",
       "      <td>Psychiatry</td>\n",
       "      <td>17</td>\n",
       "      <td>...</td>\n",
       "      <td>No</td>\n",
       "      <td>No</td>\n",
       "      <td>No</td>\n",
       "      <td>No</td>\n",
       "      <td>No</td>\n",
       "      <td>No</td>\n",
       "      <td>No</td>\n",
       "      <td>No</td>\n",
       "      <td>No</td>\n",
       "      <td>1</td>\n",
       "    </tr>\n",
       "  </tbody>\n",
       "</table>\n",
       "<p>5 rows × 49 columns</p>\n",
       "</div>"
      ],
      "text/plain": [
       "   index  encounter_id  patient_id             race  gender      age weight  \\\n",
       "0  69375     197029140    51521940         Hispanic    Male  [80-90)      ?   \n",
       "1  57272     163571946    92631357        Caucasian    Male  [60-70)      ?   \n",
       "2  82347     256497366    30023982        Caucasian  Female  [50-60)      ?   \n",
       "3  89608     289891212    93606021  AfricanAmerican  Female  [70-80)      ?   \n",
       "4  24091      81873900    23464296        Caucasian    Male  [70-80)      ?   \n",
       "\n",
       "   time_in_hospital medical_specialty  num_lab_procedures  ...  X19   X20  \\\n",
       "0                 4  Emergency/Trauma                  39  ...   No    No   \n",
       "1                 3  Emergency/Trauma                  34  ...   No    No   \n",
       "2                 6        Nephrology                  50  ...   No  Down   \n",
       "3                 5                 ?                  63  ...   No  Down   \n",
       "4                 9        Psychiatry                  17  ...   No    No   \n",
       "\n",
       "   X21  X22  X23 X24 X25 change diabetesMed  readmitted  \n",
       "0   No   No   No  No  No     No         Yes           1  \n",
       "1   No   No   No  No  No     No          No           0  \n",
       "2   No   No   No  No  No     Ch         Yes           1  \n",
       "3   No   No   No  No  No     Ch         Yes           1  \n",
       "4   No   No   No  No  No     No          No           1  \n",
       "\n",
       "[5 rows x 49 columns]"
      ]
     },
     "execution_count": 3,
     "metadata": {},
     "output_type": "execute_result"
    }
   ],
   "source": [
    "# reading the training data\n",
    "\n",
    "train = pd.read_csv(\"C://Users//Rajaram//Desktop//mith//Train_1617360447408.csv\")\n",
    "\n",
    "# displaying first 5 rows of data\n",
    "train.head()"
   ]
  },
  {
   "cell_type": "code",
   "execution_count": 4,
   "metadata": {
    "colab": {
     "base_uri": "https://localhost:8080/",
     "height": 309
    },
    "id": "xdukPUbeMbfw",
    "outputId": "9f60f42d-dd36-42ca-c780-3b345bb8bae9"
   },
   "outputs": [
    {
     "data": {
      "text/html": [
       "<div>\n",
       "<style scoped>\n",
       "    .dataframe tbody tr th:only-of-type {\n",
       "        vertical-align: middle;\n",
       "    }\n",
       "\n",
       "    .dataframe tbody tr th {\n",
       "        vertical-align: top;\n",
       "    }\n",
       "\n",
       "    .dataframe thead th {\n",
       "        text-align: right;\n",
       "    }\n",
       "</style>\n",
       "<table border=\"1\" class=\"dataframe\">\n",
       "  <thead>\n",
       "    <tr style=\"text-align: right;\">\n",
       "      <th></th>\n",
       "      <th>index</th>\n",
       "      <th>encounter_id</th>\n",
       "      <th>patient_id</th>\n",
       "      <th>race</th>\n",
       "      <th>gender</th>\n",
       "      <th>age</th>\n",
       "      <th>weight</th>\n",
       "      <th>time_in_hospital</th>\n",
       "      <th>medical_specialty</th>\n",
       "      <th>num_lab_procedures</th>\n",
       "      <th>...</th>\n",
       "      <th>X18</th>\n",
       "      <th>X19</th>\n",
       "      <th>X20</th>\n",
       "      <th>X21</th>\n",
       "      <th>X22</th>\n",
       "      <th>X23</th>\n",
       "      <th>X24</th>\n",
       "      <th>X25</th>\n",
       "      <th>change</th>\n",
       "      <th>diabetesMed</th>\n",
       "    </tr>\n",
       "  </thead>\n",
       "  <tbody>\n",
       "    <tr>\n",
       "      <td>0</td>\n",
       "      <td>11128</td>\n",
       "      <td>46325466</td>\n",
       "      <td>3928383</td>\n",
       "      <td>Caucasian</td>\n",
       "      <td>Female</td>\n",
       "      <td>[70-80)</td>\n",
       "      <td>?</td>\n",
       "      <td>3</td>\n",
       "      <td>?</td>\n",
       "      <td>45</td>\n",
       "      <td>...</td>\n",
       "      <td>No</td>\n",
       "      <td>No</td>\n",
       "      <td>No</td>\n",
       "      <td>No</td>\n",
       "      <td>No</td>\n",
       "      <td>No</td>\n",
       "      <td>No</td>\n",
       "      <td>No</td>\n",
       "      <td>No</td>\n",
       "      <td>Yes</td>\n",
       "    </tr>\n",
       "    <tr>\n",
       "      <td>1</td>\n",
       "      <td>79758</td>\n",
       "      <td>245219616</td>\n",
       "      <td>60926103</td>\n",
       "      <td>Caucasian</td>\n",
       "      <td>Male</td>\n",
       "      <td>[60-70)</td>\n",
       "      <td>?</td>\n",
       "      <td>2</td>\n",
       "      <td>?</td>\n",
       "      <td>10</td>\n",
       "      <td>...</td>\n",
       "      <td>No</td>\n",
       "      <td>No</td>\n",
       "      <td>No</td>\n",
       "      <td>No</td>\n",
       "      <td>No</td>\n",
       "      <td>No</td>\n",
       "      <td>No</td>\n",
       "      <td>No</td>\n",
       "      <td>No</td>\n",
       "      <td>Yes</td>\n",
       "    </tr>\n",
       "    <tr>\n",
       "      <td>2</td>\n",
       "      <td>52497</td>\n",
       "      <td>155321232</td>\n",
       "      <td>25234848</td>\n",
       "      <td>AfricanAmerican</td>\n",
       "      <td>Male</td>\n",
       "      <td>[70-80)</td>\n",
       "      <td>?</td>\n",
       "      <td>11</td>\n",
       "      <td>InternalMedicine</td>\n",
       "      <td>41</td>\n",
       "      <td>...</td>\n",
       "      <td>No</td>\n",
       "      <td>No</td>\n",
       "      <td>Steady</td>\n",
       "      <td>No</td>\n",
       "      <td>No</td>\n",
       "      <td>No</td>\n",
       "      <td>No</td>\n",
       "      <td>No</td>\n",
       "      <td>No</td>\n",
       "      <td>Yes</td>\n",
       "    </tr>\n",
       "    <tr>\n",
       "      <td>3</td>\n",
       "      <td>64504</td>\n",
       "      <td>179491944</td>\n",
       "      <td>86935374</td>\n",
       "      <td>Caucasian</td>\n",
       "      <td>Female</td>\n",
       "      <td>[70-80)</td>\n",
       "      <td>?</td>\n",
       "      <td>1</td>\n",
       "      <td>InternalMedicine</td>\n",
       "      <td>71</td>\n",
       "      <td>...</td>\n",
       "      <td>No</td>\n",
       "      <td>No</td>\n",
       "      <td>No</td>\n",
       "      <td>No</td>\n",
       "      <td>No</td>\n",
       "      <td>No</td>\n",
       "      <td>No</td>\n",
       "      <td>No</td>\n",
       "      <td>No</td>\n",
       "      <td>No</td>\n",
       "    </tr>\n",
       "    <tr>\n",
       "      <td>4</td>\n",
       "      <td>987</td>\n",
       "      <td>7425954</td>\n",
       "      <td>2486826</td>\n",
       "      <td>AfricanAmerican</td>\n",
       "      <td>Female</td>\n",
       "      <td>[50-60)</td>\n",
       "      <td>?</td>\n",
       "      <td>7</td>\n",
       "      <td>InternalMedicine</td>\n",
       "      <td>59</td>\n",
       "      <td>...</td>\n",
       "      <td>No</td>\n",
       "      <td>No</td>\n",
       "      <td>Steady</td>\n",
       "      <td>No</td>\n",
       "      <td>No</td>\n",
       "      <td>No</td>\n",
       "      <td>No</td>\n",
       "      <td>No</td>\n",
       "      <td>Ch</td>\n",
       "      <td>Yes</td>\n",
       "    </tr>\n",
       "  </tbody>\n",
       "</table>\n",
       "<p>5 rows × 48 columns</p>\n",
       "</div>"
      ],
      "text/plain": [
       "   index  encounter_id  patient_id             race  gender      age weight  \\\n",
       "0  11128      46325466     3928383        Caucasian  Female  [70-80)      ?   \n",
       "1  79758     245219616    60926103        Caucasian    Male  [60-70)      ?   \n",
       "2  52497     155321232    25234848  AfricanAmerican    Male  [70-80)      ?   \n",
       "3  64504     179491944    86935374        Caucasian  Female  [70-80)      ?   \n",
       "4    987       7425954     2486826  AfricanAmerican  Female  [50-60)      ?   \n",
       "\n",
       "   time_in_hospital medical_specialty  num_lab_procedures  ...  X18  X19  \\\n",
       "0                 3                 ?                  45  ...   No   No   \n",
       "1                 2                 ?                  10  ...   No   No   \n",
       "2                11  InternalMedicine                  41  ...   No   No   \n",
       "3                 1  InternalMedicine                  71  ...   No   No   \n",
       "4                 7  InternalMedicine                  59  ...   No   No   \n",
       "\n",
       "      X20  X21  X22 X23 X24 X25 change  diabetesMed  \n",
       "0      No   No   No  No  No  No     No          Yes  \n",
       "1      No   No   No  No  No  No     No          Yes  \n",
       "2  Steady   No   No  No  No  No     No          Yes  \n",
       "3      No   No   No  No  No  No     No           No  \n",
       "4  Steady   No   No  No  No  No     Ch          Yes  \n",
       "\n",
       "[5 rows x 48 columns]"
      ]
     },
     "execution_count": 4,
     "metadata": {},
     "output_type": "execute_result"
    }
   ],
   "source": [
    "test = pd.read_csv(\"C://Users//Rajaram//Desktop//mith//test_1617360461595.csv\")\n",
    "test.head()"
   ]
  },
  {
   "cell_type": "code",
   "execution_count": 5,
   "metadata": {
    "colab": {
     "base_uri": "https://localhost:8080/"
    },
    "id": "KamE51BNL3FV",
    "outputId": "7c65e40b-fcd2-4f1d-d3d8-86cbd701b56d"
   },
   "outputs": [
    {
     "data": {
      "text/plain": [
       "(66587, 49)"
      ]
     },
     "execution_count": 5,
     "metadata": {},
     "output_type": "execute_result"
    }
   ],
   "source": [
    "#Exploratory Data Analysis and Preprocessing and Feature Engineering\n",
    "\n",
    "train.shape"
   ]
  },
  {
   "cell_type": "markdown",
   "metadata": {
    "id": "Ludmp86CMOst"
   },
   "source": [
    "Train data have total 66587 rows and 49 columns."
   ]
  },
  {
   "cell_type": "code",
   "execution_count": 6,
   "metadata": {
    "colab": {
     "base_uri": "https://localhost:8080/"
    },
    "id": "f1KKDYgbMMp2",
    "outputId": "dfe9cac0-d1d9-41bb-c745-6edff1d34880"
   },
   "outputs": [
    {
     "data": {
      "text/plain": [
       "index                   int64\n",
       "encounter_id            int64\n",
       "patient_id              int64\n",
       "race                   object\n",
       "gender                 object\n",
       "age                    object\n",
       "weight                 object\n",
       "time_in_hospital        int64\n",
       "medical_specialty      object\n",
       "num_lab_procedures      int64\n",
       "num_procedures          int64\n",
       "num_medications         int64\n",
       "number_outpatient       int64\n",
       "number_emergency        int64\n",
       "number_inpatient        int64\n",
       "diag_1                 object\n",
       "diag_2                 object\n",
       "diag_3                 object\n",
       "diag_4                 object\n",
       "diag_5                float64\n",
       "number_diagnoses        int64\n",
       "X1                     object\n",
       "X2                     object\n",
       "X3                     object\n",
       "X4                     object\n",
       "X5                     object\n",
       "X6                     object\n",
       "X7                     object\n",
       "X8                     object\n",
       "X9                     object\n",
       "X10                    object\n",
       "X11                    object\n",
       "X12                    object\n",
       "X13                    object\n",
       "X14                    object\n",
       "X15                    object\n",
       "X16                    object\n",
       "X17                    object\n",
       "X18                    object\n",
       "X19                    object\n",
       "X20                    object\n",
       "X21                    object\n",
       "X22                    object\n",
       "X23                    object\n",
       "X24                    object\n",
       "X25                    object\n",
       "change                 object\n",
       "diabetesMed            object\n",
       "readmitted              int64\n",
       "dtype: object"
      ]
     },
     "execution_count": 6,
     "metadata": {},
     "output_type": "execute_result"
    }
   ],
   "source": [
    "train.dtypes"
   ]
  },
  {
   "cell_type": "code",
   "execution_count": 7,
   "metadata": {
    "colab": {
     "base_uri": "https://localhost:8080/"
    },
    "id": "4uSLh4dXMZ-l",
    "outputId": "65601045-1fa6-4646-c179-57348256fdd1"
   },
   "outputs": [
    {
     "data": {
      "text/plain": [
       "(16647, 48)"
      ]
     },
     "execution_count": 7,
     "metadata": {},
     "output_type": "execute_result"
    }
   ],
   "source": [
    "test.shape"
   ]
  },
  {
   "cell_type": "markdown",
   "metadata": {
    "id": "iqV8Q5ohMsS8"
   },
   "source": [
    "test data have total 16647 rows and 48 columns."
   ]
  },
  {
   "cell_type": "code",
   "execution_count": 8,
   "metadata": {
    "colab": {
     "base_uri": "https://localhost:8080/"
    },
    "id": "ZztcN0uRMp21",
    "outputId": "7121264a-8ff9-478b-d806-3227253ffa40"
   },
   "outputs": [
    {
     "data": {
      "text/plain": [
       "index                   int64\n",
       "encounter_id            int64\n",
       "patient_id              int64\n",
       "race                   object\n",
       "gender                 object\n",
       "age                    object\n",
       "weight                 object\n",
       "time_in_hospital        int64\n",
       "medical_specialty      object\n",
       "num_lab_procedures      int64\n",
       "num_procedures          int64\n",
       "num_medications         int64\n",
       "number_outpatient       int64\n",
       "number_emergency        int64\n",
       "number_inpatient        int64\n",
       "diag_1                 object\n",
       "diag_2                 object\n",
       "diag_3                 object\n",
       "diag_4                 object\n",
       "diag_5                float64\n",
       "number_diagnoses        int64\n",
       "X1                     object\n",
       "X2                     object\n",
       "X3                     object\n",
       "X4                     object\n",
       "X5                     object\n",
       "X6                     object\n",
       "X7                     object\n",
       "X8                     object\n",
       "X9                     object\n",
       "X10                    object\n",
       "X11                    object\n",
       "X12                    object\n",
       "X13                    object\n",
       "X14                    object\n",
       "X15                    object\n",
       "X16                    object\n",
       "X17                    object\n",
       "X18                    object\n",
       "X19                    object\n",
       "X20                    object\n",
       "X21                    object\n",
       "X22                    object\n",
       "X23                    object\n",
       "X24                    object\n",
       "X25                    object\n",
       "change                 object\n",
       "diabetesMed            object\n",
       "dtype: object"
      ]
     },
     "execution_count": 8,
     "metadata": {},
     "output_type": "execute_result"
    }
   ],
   "source": [
    "test.dtypes"
   ]
  },
  {
   "cell_type": "code",
   "execution_count": 9,
   "metadata": {
    "colab": {
     "base_uri": "https://localhost:8080/"
    },
    "id": "e9KGlpzsMybx",
    "outputId": "8d3c6e20-9b52-4c72-912b-fda5d1ed2bb6"
   },
   "outputs": [
    {
     "name": "stdout",
     "output_type": "stream",
     "text": [
      "race 1504\n",
      "gender 0\n",
      "age 0\n",
      "weight 64454\n",
      "medical_specialty 32672\n",
      "diag_1 15\n",
      "diag_2 231\n",
      "diag_3 954\n",
      "diag_4 954\n",
      "X1 0\n",
      "X2 0\n",
      "X3 0\n",
      "X4 0\n",
      "X5 0\n",
      "X6 0\n",
      "X7 0\n",
      "X8 0\n",
      "X9 0\n",
      "X10 0\n",
      "X11 0\n",
      "X12 0\n",
      "X13 0\n",
      "X14 0\n",
      "X15 0\n",
      "X16 0\n",
      "X17 0\n",
      "X18 0\n",
      "X19 0\n",
      "X20 0\n",
      "X21 0\n",
      "X22 0\n",
      "X23 0\n",
      "X24 0\n",
      "X25 0\n",
      "change 0\n",
      "diabetesMed 0\n"
     ]
    }
   ],
   "source": [
    "#getting count of missing values in train dataset\n",
    "# In the dataset missing values are represented as '?' symbol\n",
    "\n",
    "for col in train.columns:\n",
    "    if train[col].dtype == object:\n",
    "         print(col,train[col][train[col] == '?'].count())"
   ]
  },
  {
   "cell_type": "code",
   "execution_count": 10,
   "metadata": {
    "colab": {
     "base_uri": "https://localhost:8080/"
    },
    "id": "bl-zPJS2NxTZ",
    "outputId": "cdbb8ba7-568b-4e47-8594-100a562fb4fd"
   },
   "outputs": [
    {
     "name": "stdout",
     "output_type": "stream",
     "text": [
      "race 371\n",
      "gender 0\n",
      "age 0\n",
      "weight 16107\n",
      "medical_specialty 8081\n",
      "diag_1 3\n",
      "diag_2 63\n",
      "diag_3 247\n",
      "diag_4 247\n",
      "X1 0\n",
      "X2 0\n",
      "X3 0\n",
      "X4 0\n",
      "X5 0\n",
      "X6 0\n",
      "X7 0\n",
      "X8 0\n",
      "X9 0\n",
      "X10 0\n",
      "X11 0\n",
      "X12 0\n",
      "X13 0\n",
      "X14 0\n",
      "X15 0\n",
      "X16 0\n",
      "X17 0\n",
      "X18 0\n",
      "X19 0\n",
      "X20 0\n",
      "X21 0\n",
      "X22 0\n",
      "X23 0\n",
      "X24 0\n",
      "X25 0\n",
      "change 0\n",
      "diabetesMed 0\n"
     ]
    }
   ],
   "source": [
    "#getting count of missing values in test dataset\n",
    "# In the dataset missing values are represented as '?' symbol\n",
    "\n",
    "for col in test.columns:\n",
    "    if test[col].dtype == object:\n",
    "         print(col,test[col][test[col] == '?'].count())"
   ]
  },
  {
   "cell_type": "code",
   "execution_count": 11,
   "metadata": {
    "colab": {
     "base_uri": "https://localhost:8080/"
    },
    "id": "SPvvQZ_TNS_V",
    "outputId": "28236ed9-a575-41bb-f059-0f609338b662"
   },
   "outputs": [
    {
     "name": "stdout",
     "output_type": "stream",
     "text": [
      "Invalid records in gender column in train dataset :  2\n",
      "Invalid records in gender column in test dataset :  1\n"
     ]
    }
   ],
   "source": [
    "# gender was coded differently so we use a custom count for this one   \n",
    "\n",
    "\n",
    "print('Invalid records in gender column in train dataset : ', train['gender'][train['gender'] == 'Unknown/Invalid'].count())\n",
    "\n",
    "print('Invalid records in gender column in test dataset : ', test['gender'][test['gender'] == 'Unknown/Invalid'].count())"
   ]
  },
  {
   "cell_type": "code",
   "execution_count": 12,
   "metadata": {
    "colab": {
     "base_uri": "https://localhost:8080/"
    },
    "id": "EpcdVOHmOjUo",
    "outputId": "b5fe3888-a0d7-4f92-f2b1-c716444f76da"
   },
   "outputs": [
    {
     "data": {
      "text/plain": [
       "Index(['index', 'encounter_id', 'patient_id', 'race', 'gender', 'age',\n",
       "       'weight', 'time_in_hospital', 'medical_specialty', 'num_lab_procedures',\n",
       "       'num_procedures', 'num_medications', 'number_outpatient',\n",
       "       'number_emergency', 'number_inpatient', 'diag_1', 'diag_2', 'diag_3',\n",
       "       'diag_4', 'diag_5', 'number_diagnoses', 'X1', 'X2', 'X3', 'X4', 'X5',\n",
       "       'X6', 'X7', 'X8', 'X9', 'X10', 'X11', 'X12', 'X13', 'X14', 'X15', 'X16',\n",
       "       'X17', 'X18', 'X19', 'X20', 'X21', 'X22', 'X23', 'X24', 'X25', 'change',\n",
       "       'diabetesMed', 'readmitted'],\n",
       "      dtype='object')"
      ]
     },
     "execution_count": 12,
     "metadata": {},
     "output_type": "execute_result"
    }
   ],
   "source": [
    "#Dealing with Missing Values\n",
    "\n",
    "train.columns"
   ]
  },
  {
   "cell_type": "code",
   "execution_count": 13,
   "metadata": {
    "id": "Y-5KAK2WOP98"
   },
   "outputs": [],
   "source": [
    "# dropping columns with large number of missing values\n",
    "\n",
    "\n",
    "train = train.drop(['weight','medical_specialty'], axis = 1)\n",
    "test = test.drop(['weight','medical_specialty'], axis = 1)"
   ]
  },
  {
   "cell_type": "code",
   "execution_count": 14,
   "metadata": {
    "id": "hwHllup1Nmuu"
   },
   "outputs": [],
   "source": [
    "drop_Idx = set(train[(train['diag_1'] == '?') & (train['diag_2'] == '?') & (train['diag_3'] == '?')].index)\n",
    "\n",
    "drop_Idx = drop_Idx.union(set(train['diag_1'][train['diag_1'] == '?'].index))\n",
    "drop_Idx = drop_Idx.union(set(train['diag_2'][train['diag_2'] == '?'].index))\n",
    "drop_Idx = drop_Idx.union(set(train['diag_3'][train['diag_3'] == '?'].index))\n",
    "drop_Idx = drop_Idx.union(set(train['race'][train['race'] == '?'].index))\n",
    "drop_Idx = drop_Idx.union(set(train['gender'][train['gender'] == 'Unknown/Invalid'].index))\n",
    "new_Idx = list(set(train.index) - set(drop_Idx))\n",
    "train = train.iloc[new_Idx]"
   ]
  },
  {
   "cell_type": "code",
   "execution_count": 15,
   "metadata": {
    "colab": {
     "base_uri": "https://localhost:8080/"
    },
    "id": "mYrZPCfOWxqV",
    "outputId": "5190df17-482c-4e03-d85a-637b60e1ad45"
   },
   "outputs": [
    {
     "data": {
      "text/plain": [
       "None    60749\n",
       "Norm     1593\n",
       ">200      968\n",
       ">300      818\n",
       "Name: X1, dtype: int64"
      ]
     },
     "execution_count": 15,
     "metadata": {},
     "output_type": "execute_result"
    }
   ],
   "source": [
    "train['X1'].value_counts()"
   ]
  },
  {
   "cell_type": "code",
   "execution_count": 16,
   "metadata": {
    "id": "FuiqjSdPXKfL"
   },
   "outputs": [],
   "source": [
    "categorical = []\n",
    "for col in train.columns:\n",
    "    if train[col].dtype == object:\n",
    "          categorical.append(col)"
   ]
  },
  {
   "cell_type": "code",
   "execution_count": 17,
   "metadata": {
    "id": "Li-E6y39XjC0"
   },
   "outputs": [],
   "source": [
    "categorical1 = []\n",
    "for col in test.columns:\n",
    "    if test[col].dtype == object:\n",
    "        categorical1.append(col)"
   ]
  },
  {
   "cell_type": "code",
   "execution_count": 18,
   "metadata": {
    "colab": {
     "base_uri": "https://localhost:8080/"
    },
    "id": "aeeECYGnWomN",
    "outputId": "4ef32061-c1b8-4402-f99f-5a1dd17fcbf7"
   },
   "outputs": [
    {
     "name": "stdout",
     "output_type": "stream",
     "text": [
      "------------   race\n",
      "Caucasian          49230\n",
      "AfricanAmerican    12201\n",
      "Hispanic            1273\n",
      "Other               1029\n",
      "Asian                395\n",
      "Name: race, dtype: int64\n",
      "------------   gender\n",
      "Female    34744\n",
      "Male      29384\n",
      "Name: gender, dtype: int64\n",
      "------------   age\n",
      "[70-80)     16465\n",
      "[60-70)     14406\n",
      "[50-60)     11022\n",
      "[80-90)     10761\n",
      "[40-50)      6048\n",
      "[30-40)      2271\n",
      "[90-100)     1786\n",
      "[20-30)      1037\n",
      "[10-20)       292\n",
      "[0-10)         40\n",
      "Name: age, dtype: int64\n",
      "------------   diag_1\n",
      "428    4457\n",
      "414    4065\n",
      "786    2567\n",
      "410    2306\n",
      "486    2183\n",
      "       ... \n",
      "803       1\n",
      "354       1\n",
      "27        1\n",
      "875       1\n",
      "746       1\n",
      "Name: diag_1, Length: 644, dtype: int64\n",
      "------------   diag_2\n",
      "428    4268\n",
      "276    4261\n",
      "250    3640\n",
      "427    3174\n",
      "401    2279\n",
      "       ... \n",
      "665       1\n",
      "661       1\n",
      "75        1\n",
      "180       1\n",
      "962       1\n",
      "Name: diag_2, Length: 650, dtype: int64\n",
      "------------   diag_3\n",
      "250     7261\n",
      "401     5362\n",
      "276     3316\n",
      "428     2957\n",
      "427     2600\n",
      "        ... \n",
      "180        1\n",
      "E828       1\n",
      "622        1\n",
      "226        1\n",
      "866        1\n",
      "Name: diag_3, Length: 700, dtype: int64\n",
      "------------   diag_4\n",
      "250     7261\n",
      "401     5362\n",
      "276     3316\n",
      "428     2957\n",
      "427     2600\n",
      "        ... \n",
      "180        1\n",
      "E828       1\n",
      "622        1\n",
      "226        1\n",
      "866        1\n",
      "Name: diag_4, Length: 700, dtype: int64\n",
      "------------   X1\n",
      "None    60749\n",
      "Norm     1593\n",
      ">200      968\n",
      ">300      818\n",
      "Name: X1, dtype: int64\n",
      "------------   X2\n",
      "None    53531\n",
      ">8       4972\n",
      "Norm     3152\n",
      ">7       2473\n",
      "Name: X2, dtype: int64\n",
      "------------   X3\n",
      "No        51599\n",
      "Steady    11445\n",
      "Up          679\n",
      "Down        405\n",
      "Name: X3, dtype: int64\n",
      "------------   X4\n",
      "No        63103\n",
      "Steady      937\n",
      "Up           58\n",
      "Down         30\n",
      "Name: X4, dtype: int64\n",
      "------------   X5\n",
      "No        63659\n",
      "Steady      441\n",
      "Up           17\n",
      "Down         11\n",
      "Name: X5, dtype: int64\n",
      "------------   X6\n",
      "No        64056\n",
      "Steady       65\n",
      "Up            7\n",
      "Name: X6, dtype: int64\n",
      "------------   X7\n",
      "No        60848\n",
      "Steady     2956\n",
      "Up          198\n",
      "Down        126\n",
      "Name: X7, dtype: int64\n",
      "------------   X8\n",
      "No    64128\n",
      "Name: X8, dtype: int64\n",
      "------------   X9\n",
      "No        56104\n",
      "Steady     7166\n",
      "Up          498\n",
      "Down        360\n",
      "Name: X9, dtype: int64\n",
      "------------   X10\n",
      "No        57467\n",
      "Steady     5801\n",
      "Up          493\n",
      "Down        367\n",
      "Name: X10, dtype: int64\n",
      "------------   X11\n",
      "No        64114\n",
      "Steady       14\n",
      "Name: X11, dtype: int64\n",
      "------------   X12\n",
      "No        59441\n",
      "Steady     4460\n",
      "Up          152\n",
      "Down         75\n",
      "Name: X12, dtype: int64\n",
      "------------   X13\n",
      "No        60138\n",
      "Steady     3825\n",
      "Up          103\n",
      "Down         62\n",
      "Name: X13, dtype: int64\n",
      "------------   X14\n",
      "No        63907\n",
      "Steady      208\n",
      "Up           11\n",
      "Down          2\n",
      "Name: X14, dtype: int64\n",
      "------------   X15\n",
      "No        64116\n",
      "Steady       11\n",
      "Down          1\n",
      "Name: X15, dtype: int64\n",
      "------------   X16\n",
      "No        64124\n",
      "Steady        4\n",
      "Name: X16, dtype: int64\n",
      "------------   X17\n",
      "No        64097\n",
      "Steady       31\n",
      "Name: X17, dtype: int64\n",
      "------------   X18\n",
      "No    64128\n",
      "Name: X18, dtype: int64\n",
      "------------   X19\n",
      "No    64128\n",
      "Name: X19, dtype: int64\n",
      "------------   X20\n",
      "No        30219\n",
      "Steady    18956\n",
      "Down       7759\n",
      "Up         7194\n",
      "Name: X20, dtype: int64\n",
      "------------   X21\n",
      "No        63671\n",
      "Steady      448\n",
      "Up            5\n",
      "Down          4\n",
      "Name: X21, dtype: int64\n",
      "------------   X22\n",
      "No        64116\n",
      "Steady       12\n",
      "Name: X22, dtype: int64\n",
      "------------   X23\n",
      "No        64127\n",
      "Steady        1\n",
      "Name: X23, dtype: int64\n",
      "------------   X24\n",
      "No    64128\n",
      "Name: X24, dtype: int64\n",
      "------------   X25\n",
      "No    64128\n",
      "Name: X25, dtype: int64\n",
      "------------   change\n",
      "No    34576\n",
      "Ch    29552\n",
      "Name: change, dtype: int64\n",
      "------------   diabetesMed\n",
      "Yes    49205\n",
      "No     14923\n",
      "Name: diabetesMed, dtype: int64\n"
     ]
    }
   ],
   "source": [
    "#printing the frequency count of all the categorical features\n",
    "for col in categorical:\n",
    "        print(\"------------  \" , col)\n",
    "        print(train[col].value_counts())"
   ]
  },
  {
   "cell_type": "code",
   "execution_count": 19,
   "metadata": {
    "id": "wgj2qL3WZUTs"
   },
   "outputs": [],
   "source": [
    "#Since the columns X8, X18, X19, X24, X25 have only 1 values which will not help much in predictions so we will drop them.\n",
    "\n",
    "train = train.drop(['X8', 'X18', 'X19', 'X24', 'X25'], axis = 1)"
   ]
  },
  {
   "cell_type": "code",
   "execution_count": 20,
   "metadata": {
    "id": "OuDbgMTEPQKL"
   },
   "outputs": [],
   "source": [
    "drop_Idx = set(test[(test['diag_1'] == '?') & (test['diag_2'] == '?') & (test['diag_3'] == '?')].index)\n",
    "\n",
    "drop_Idx = drop_Idx.union(set(test['diag_1'][test['diag_1'] == '?'].index))\n",
    "drop_Idx = drop_Idx.union(set(test['diag_2'][test['diag_2'] == '?'].index))\n",
    "drop_Idx = drop_Idx.union(set(test['diag_3'][test['diag_3'] == '?'].index))\n",
    "drop_Idx = drop_Idx.union(set(test['race'][test['race'] == '?'].index))\n",
    "drop_Idx = drop_Idx.union(set(test['gender'][test['gender'] == 'Unknown/Invalid'].index))\n",
    "new_Idx = list(set(test.index) - set(drop_Idx))\n",
    "test = test.iloc[new_Idx]"
   ]
  },
  {
   "cell_type": "code",
   "execution_count": 21,
   "metadata": {
    "id": "QLsLCrSFZ1uj"
   },
   "outputs": [],
   "source": [
    "test = test.drop(['X8', 'X18', 'X19', 'X24', 'X25'], axis = 1)"
   ]
  },
  {
   "cell_type": "code",
   "execution_count": 22,
   "metadata": {
    "colab": {
     "base_uri": "https://localhost:8080/"
    },
    "id": "GlUwDRMmPmiH",
    "outputId": "0f9fa6c9-9107-4314-aace-4bacdec53a31"
   },
   "outputs": [
    {
     "name": "stdout",
     "output_type": "stream",
     "text": [
      "<class 'pandas.core.frame.DataFrame'>\n",
      "Int64Index: 64128 entries, 0 to 66586\n",
      "Data columns (total 42 columns):\n",
      "index                 64128 non-null int64\n",
      "encounter_id          64128 non-null int64\n",
      "patient_id            64128 non-null int64\n",
      "race                  64128 non-null object\n",
      "gender                64128 non-null object\n",
      "age                   64128 non-null object\n",
      "time_in_hospital      64128 non-null int64\n",
      "num_lab_procedures    64128 non-null int64\n",
      "num_procedures        64128 non-null int64\n",
      "num_medications       64128 non-null int64\n",
      "number_outpatient     64128 non-null int64\n",
      "number_emergency      64128 non-null int64\n",
      "number_inpatient      64128 non-null int64\n",
      "diag_1                64128 non-null object\n",
      "diag_2                64128 non-null object\n",
      "diag_3                64128 non-null object\n",
      "diag_4                64128 non-null object\n",
      "diag_5                64128 non-null float64\n",
      "number_diagnoses      64128 non-null int64\n",
      "X1                    64128 non-null object\n",
      "X2                    64128 non-null object\n",
      "X3                    64128 non-null object\n",
      "X4                    64128 non-null object\n",
      "X5                    64128 non-null object\n",
      "X6                    64128 non-null object\n",
      "X7                    64128 non-null object\n",
      "X9                    64128 non-null object\n",
      "X10                   64128 non-null object\n",
      "X11                   64128 non-null object\n",
      "X12                   64128 non-null object\n",
      "X13                   64128 non-null object\n",
      "X14                   64128 non-null object\n",
      "X15                   64128 non-null object\n",
      "X16                   64128 non-null object\n",
      "X17                   64128 non-null object\n",
      "X20                   64128 non-null object\n",
      "X21                   64128 non-null object\n",
      "X22                   64128 non-null object\n",
      "X23                   64128 non-null object\n",
      "change                64128 non-null object\n",
      "diabetesMed           64128 non-null object\n",
      "readmitted            64128 non-null int64\n",
      "dtypes: float64(1), int64(12), object(29)\n",
      "memory usage: 21.0+ MB\n"
     ]
    }
   ],
   "source": [
    "train.info()"
   ]
  },
  {
   "cell_type": "code",
   "execution_count": 23,
   "metadata": {
    "colab": {
     "base_uri": "https://localhost:8080/"
    },
    "id": "kFdj-g5LP_4N",
    "outputId": "e3df8bd0-3380-4af3-c4db-323dfdcc4e72"
   },
   "outputs": [
    {
     "name": "stdout",
     "output_type": "stream",
     "text": [
      "<class 'pandas.core.frame.DataFrame'>\n",
      "Int64Index: 16028 entries, 0 to 16646\n",
      "Data columns (total 41 columns):\n",
      "index                 16028 non-null int64\n",
      "encounter_id          16028 non-null int64\n",
      "patient_id            16028 non-null int64\n",
      "race                  16028 non-null object\n",
      "gender                16028 non-null object\n",
      "age                   16028 non-null object\n",
      "time_in_hospital      16028 non-null int64\n",
      "num_lab_procedures    16028 non-null int64\n",
      "num_procedures        16028 non-null int64\n",
      "num_medications       16028 non-null int64\n",
      "number_outpatient     16028 non-null int64\n",
      "number_emergency      16028 non-null int64\n",
      "number_inpatient      16028 non-null int64\n",
      "diag_1                16028 non-null object\n",
      "diag_2                16028 non-null object\n",
      "diag_3                16028 non-null object\n",
      "diag_4                16028 non-null object\n",
      "diag_5                16028 non-null float64\n",
      "number_diagnoses      16028 non-null int64\n",
      "X1                    16028 non-null object\n",
      "X2                    16028 non-null object\n",
      "X3                    16028 non-null object\n",
      "X4                    16028 non-null object\n",
      "X5                    16028 non-null object\n",
      "X6                    16028 non-null object\n",
      "X7                    16028 non-null object\n",
      "X9                    16028 non-null object\n",
      "X10                   16028 non-null object\n",
      "X11                   16028 non-null object\n",
      "X12                   16028 non-null object\n",
      "X13                   16028 non-null object\n",
      "X14                   16028 non-null object\n",
      "X15                   16028 non-null object\n",
      "X16                   16028 non-null object\n",
      "X17                   16028 non-null object\n",
      "X20                   16028 non-null object\n",
      "X21                   16028 non-null object\n",
      "X22                   16028 non-null object\n",
      "X23                   16028 non-null object\n",
      "change                16028 non-null object\n",
      "diabetesMed           16028 non-null object\n",
      "dtypes: float64(1), int64(11), object(29)\n",
      "memory usage: 5.1+ MB\n"
     ]
    }
   ],
   "source": [
    "test.info()"
   ]
  },
  {
   "cell_type": "code",
   "execution_count": 24,
   "metadata": {
    "id": "yG8fzP1cQF-d"
   },
   "outputs": [],
   "source": [
    "#Feature Engineering\n",
    "\n",
    "train['service_utilization'] = train['number_outpatient'] + train['number_emergency'] + train['number_inpatient']\n",
    "\n",
    "test['service_utilization'] = test['number_outpatient'] + test['number_emergency'] + test['number_inpatient']"
   ]
  },
  {
   "cell_type": "code",
   "execution_count": 25,
   "metadata": {
    "id": "zkauug4ubnF0"
   },
   "outputs": [],
   "source": [
    "keys = []\n",
    "for col in train.columns:\n",
    "    if col.startswith('X'):\n",
    "            keys.append(col)"
   ]
  },
  {
   "cell_type": "code",
   "execution_count": 26,
   "metadata": {
    "colab": {
     "base_uri": "https://localhost:8080/"
    },
    "id": "4dB3Td20Qt3n",
    "outputId": "53dcced3-8bc3-46dc-c847-67569bfb9c59"
   },
   "outputs": [
    {
     "data": {
      "text/plain": [
       "2    46498\n",
       "3    16702\n",
       "4      872\n",
       "5       53\n",
       "6        3\n",
       "Name: numchange, dtype: int64"
      ]
     },
     "execution_count": 26,
     "metadata": {},
     "output_type": "execute_result"
    }
   ],
   "source": [
    "for col in keys:\n",
    "    colname = str(col) + 'temp'\n",
    "    train[colname] = train[col].apply(lambda x: 0 if (x == 'No' or x == 'Steady') else 1)\n",
    "    \n",
    "train['numchange'] = 0\n",
    "for col in keys:\n",
    "    colname = str(col) + 'temp'\n",
    "    train['numchange'] = train['numchange'] + train[colname]\n",
    "    del train[colname]\n",
    "    \n",
    "train['numchange'].value_counts()  "
   ]
  },
  {
   "cell_type": "code",
   "execution_count": 27,
   "metadata": {
    "id": "2kSM7BJbcWST"
   },
   "outputs": [],
   "source": [
    "keys1 = []\n",
    "for col in test.columns:\n",
    "      if col.startswith('X'):\n",
    "        keys1.append(col)"
   ]
  },
  {
   "cell_type": "code",
   "execution_count": 28,
   "metadata": {
    "colab": {
     "base_uri": "https://localhost:8080/"
    },
    "id": "4QNEFYf5cd76",
    "outputId": "a42fb5e6-40fa-4923-e9b8-39ad52c79165"
   },
   "outputs": [
    {
     "data": {
      "text/plain": [
       "2    11679\n",
       "3     4130\n",
       "4      200\n",
       "5       19\n",
       "Name: numchange, dtype: int64"
      ]
     },
     "execution_count": 28,
     "metadata": {},
     "output_type": "execute_result"
    }
   ],
   "source": [
    "for col in keys1:\n",
    "    colname = str(col) + 'temp'\n",
    "    test[colname] = test[col].apply(lambda x: 0 if (x == 'No' or x == 'Steady') else 1)\n",
    "    \n",
    "test['numchange'] = 0\n",
    "for col in keys1:\n",
    "    colname = str(col) + 'temp'\n",
    "    test['numchange'] = test['numchange'] + test[colname]\n",
    "    del test[colname]\n",
    "    \n",
    "test['numchange'].value_counts()  "
   ]
  },
  {
   "cell_type": "code",
   "execution_count": 29,
   "metadata": {
    "colab": {
     "base_uri": "https://localhost:8080/"
    },
    "id": "xhpm3d3bcnJD",
    "outputId": "64af114c-e29c-405b-c0d7-baafb6753407"
   },
   "outputs": [
    {
     "data": {
      "text/plain": [
       "Index(['index', 'encounter_id', 'patient_id', 'race', 'gender', 'age',\n",
       "       'time_in_hospital', 'num_lab_procedures', 'num_procedures',\n",
       "       'num_medications', 'number_outpatient', 'number_emergency',\n",
       "       'number_inpatient', 'diag_1', 'diag_2', 'diag_3', 'diag_4', 'diag_5',\n",
       "       'number_diagnoses', 'X1', 'X2', 'X3', 'X4', 'X5', 'X6', 'X7', 'X9',\n",
       "       'X10', 'X11', 'X12', 'X13', 'X14', 'X15', 'X16', 'X17', 'X20', 'X21',\n",
       "       'X22', 'X23', 'change', 'diabetesMed', 'readmitted',\n",
       "       'service_utilization', 'numchange'],\n",
       "      dtype='object')"
      ]
     },
     "execution_count": 29,
     "metadata": {},
     "output_type": "execute_result"
    }
   ],
   "source": [
    "train.columns"
   ]
  },
  {
   "cell_type": "code",
   "execution_count": 30,
   "metadata": {
    "id": "NGh4AH0bdOql"
   },
   "outputs": [],
   "source": [
    "train['change'] = train['change'].replace('Ch', 1)\n",
    "train['change'] = train['change'].replace('No', 0)\n",
    "train['gender'] = train['gender'].replace('Male', 1)\n",
    "train['gender'] = train['gender'].replace('Female', 0)\n",
    "train['diabetesMed'] = train['diabetesMed'].replace('Yes', 1)\n",
    "train['diabetesMed'] = train['diabetesMed'].replace('No', 0)\n",
    "\n",
    "# keys is the same as before\n",
    "\n",
    "for col in keys:\n",
    "    train[col] = train[col].replace('No', 0)\n",
    "    train[col] = train[col].replace('Steady', 1)\n",
    "    train[col] = train[col].replace('Up', 1)\n",
    "    train[col] = train[col].replace('Down', 1)"
   ]
  },
  {
   "cell_type": "code",
   "execution_count": 31,
   "metadata": {
    "id": "vRCK6APrfFb9"
   },
   "outputs": [],
   "source": [
    "test['change'] = test['change'].replace('Ch', 1)\n",
    "test['change'] = test['change'].replace('No', 0)\n",
    "test['gender'] = test['gender'].replace('Male', 1)\n",
    "test['gender'] = test['gender'].replace('Female', 0)\n",
    "test['diabetesMed'] = test['diabetesMed'].replace('Yes', 1)\n",
    "test['diabetesMed'] = test['diabetesMed'].replace('No', 0)\n",
    "\n",
    "# keys is the same as before\n",
    "\n",
    "for col in keys1:\n",
    "    test[col] = test[col].replace('No', 0)\n",
    "    test[col] = test[col].replace('Steady', 1)\n",
    "    test[col] = test[col].replace('Up', 1)\n",
    "    test[col] = test[col].replace('Down', 1)"
   ]
  },
  {
   "cell_type": "code",
   "execution_count": 32,
   "metadata": {
    "id": "nTrBAr9EeP-o"
   },
   "outputs": [],
   "source": [
    "train['X2'] = train['X2'].replace('>7', 1)\n",
    "train['X2'] = train['X2'].replace('>8', 1)\n",
    "train['X2'] = train['X2'].replace('Norm', 0)\n",
    "train['X2'] = train['X2'].replace('None', -99)\n",
    "train['X1'] = train['X1'].replace('>200', 1)\n",
    "train['X1'] = train['X1'].replace('>300', 1)\n",
    "train['X1'] = train['X1'].replace('Norm', 0)\n",
    "train['X1'] = train['X1'].replace('None', -99)"
   ]
  },
  {
   "cell_type": "code",
   "execution_count": 33,
   "metadata": {
    "id": "6YZeCd88femV"
   },
   "outputs": [],
   "source": [
    "test['X2'] = test['X2'].replace('>7', 1)\n",
    "test['X2'] = test['X2'].replace('>8', 1)\n",
    "test['X2'] = test['X2'].replace('Norm', 0)\n",
    "test['X2'] = test['X2'].replace('None', -99)\n",
    "test['X1'] = test['X1'].replace('>200', 1)\n",
    "test['X1'] = test['X1'].replace('>300', 1)\n",
    "test['X1'] = test['X1'].replace('Norm', 0)\n",
    "test['X1'] = test['X1'].replace('None', -99)"
   ]
  },
  {
   "cell_type": "code",
   "execution_count": 34,
   "metadata": {
    "id": "TQw3IJkffoan"
   },
   "outputs": [],
   "source": [
    "# code age intervals [0-10) - [90-100) from 1-10\n",
    "\n",
    "\n",
    "for i in range(0,10):\n",
    "    train['age'] = train['age'].replace('['+str(10*i)+'-'+str(10*(i+1))+')', i+1)\n",
    "    test['age'] = test['age'].replace('['+str(10*i)+'-'+str(10*(i+1))+')', i+1)\n",
    "\n"
   ]
  },
  {
   "cell_type": "code",
   "execution_count": 35,
   "metadata": {
    "colab": {
     "base_uri": "https://localhost:8080/"
    },
    "id": "PLXMNAI0xY0r",
    "outputId": "a1e238ff-d410-4ef5-8ff7-ba91252ad691"
   },
   "outputs": [
    {
     "data": {
      "text/plain": [
       "8     16465\n",
       "7     14406\n",
       "6     11022\n",
       "9     10761\n",
       "5      6048\n",
       "4      2271\n",
       "10     1786\n",
       "3      1037\n",
       "2       292\n",
       "1        40\n",
       "Name: age, dtype: int64"
      ]
     },
     "execution_count": 35,
     "metadata": {},
     "output_type": "execute_result"
    }
   ],
   "source": [
    "train['age'].value_counts()"
   ]
  },
  {
   "cell_type": "code",
   "execution_count": 36,
   "metadata": {
    "colab": {
     "base_uri": "https://localhost:8080/"
    },
    "id": "JiR7vuitxZlq",
    "outputId": "54aeb9f3-85d3-4ee6-bb1a-e10ce74c01c2"
   },
   "outputs": [
    {
     "data": {
      "text/plain": [
       "8     4083\n",
       "7     3605\n",
       "6     2756\n",
       "9     2681\n",
       "5     1557\n",
       "4      582\n",
       "10     421\n",
       "3      254\n",
       "2       78\n",
       "1       11\n",
       "Name: age, dtype: int64"
      ]
     },
     "execution_count": 36,
     "metadata": {},
     "output_type": "execute_result"
    }
   ],
   "source": [
    "test['age'].value_counts()"
   ]
  },
  {
   "cell_type": "code",
   "execution_count": 37,
   "metadata": {
    "colab": {
     "base_uri": "https://localhost:8080/"
    },
    "id": "mCG_eJ5HfxWG",
    "outputId": "c20c19dd-4367-467a-9b58-af6ed83369b3"
   },
   "outputs": [
    {
     "data": {
      "text/plain": [
       "8     4083\n",
       "7     3605\n",
       "6     2756\n",
       "9     2681\n",
       "5     1557\n",
       "4      582\n",
       "10     421\n",
       "3      254\n",
       "2       78\n",
       "1       11\n",
       "Name: age, dtype: int64"
      ]
     },
     "execution_count": 37,
     "metadata": {},
     "output_type": "execute_result"
    }
   ],
   "source": [
    "# code age intervals [0-10) - [90-100) from 1-10\n",
    "\n",
    "\n",
    "for i in range(0,10):\n",
    "    test['age'] = test['age'].replace('['+str(10*i)+'-'+str(10*(i+1))+')', i+1)\n",
    "    \n",
    "test['age'].value_counts()"
   ]
  },
  {
   "cell_type": "code",
   "execution_count": 38,
   "metadata": {
    "colab": {
     "base_uri": "https://localhost:8080/"
    },
    "id": "Z-xOrEilf2U1",
    "outputId": "a9440714-3e67-4b53-ada0-20d184d53a9c"
   },
   "outputs": [
    {
     "data": {
      "text/plain": [
       "(38078, 44)"
      ]
     },
     "execution_count": 38,
     "metadata": {},
     "output_type": "execute_result"
    }
   ],
   "source": [
    "train1 = train.drop_duplicates(subset= ['patient_id'], keep = 'first')\n",
    "train1.shape"
   ]
  },
  {
   "cell_type": "code",
   "execution_count": 39,
   "metadata": {
    "colab": {
     "base_uri": "https://localhost:8080/"
    },
    "id": "CQyoAS7ZgGdl",
    "outputId": "53320299-fa24-421d-97d6-57b6d31f477e"
   },
   "outputs": [
    {
     "data": {
      "text/plain": [
       "(13675, 43)"
      ]
     },
     "execution_count": 39,
     "metadata": {},
     "output_type": "execute_result"
    }
   ],
   "source": [
    "test1 = test.drop_duplicates(subset= ['patient_id'], keep = 'first')\n",
    "test1.shape"
   ]
  },
  {
   "cell_type": "code",
   "execution_count": 40,
   "metadata": {
    "colab": {
     "base_uri": "https://localhost:8080/",
     "height": 224
    },
    "id": "_oL7l95GgU2Q",
    "outputId": "03fe1924-efd6-4c0d-d4ed-9cabf536536a"
   },
   "outputs": [
    {
     "data": {
      "text/html": [
       "<div>\n",
       "<style scoped>\n",
       "    .dataframe tbody tr th:only-of-type {\n",
       "        vertical-align: middle;\n",
       "    }\n",
       "\n",
       "    .dataframe tbody tr th {\n",
       "        vertical-align: top;\n",
       "    }\n",
       "\n",
       "    .dataframe thead th {\n",
       "        text-align: right;\n",
       "    }\n",
       "</style>\n",
       "<table border=\"1\" class=\"dataframe\">\n",
       "  <thead>\n",
       "    <tr style=\"text-align: right;\">\n",
       "      <th></th>\n",
       "      <th>index</th>\n",
       "      <th>encounter_id</th>\n",
       "      <th>patient_id</th>\n",
       "      <th>race</th>\n",
       "      <th>gender</th>\n",
       "      <th>age</th>\n",
       "      <th>time_in_hospital</th>\n",
       "      <th>num_lab_procedures</th>\n",
       "      <th>num_procedures</th>\n",
       "      <th>num_medications</th>\n",
       "      <th>...</th>\n",
       "      <th>X17</th>\n",
       "      <th>X20</th>\n",
       "      <th>X21</th>\n",
       "      <th>X22</th>\n",
       "      <th>X23</th>\n",
       "      <th>change</th>\n",
       "      <th>diabetesMed</th>\n",
       "      <th>readmitted</th>\n",
       "      <th>service_utilization</th>\n",
       "      <th>numchange</th>\n",
       "    </tr>\n",
       "  </thead>\n",
       "  <tbody>\n",
       "    <tr>\n",
       "      <td>0</td>\n",
       "      <td>69375</td>\n",
       "      <td>197029140</td>\n",
       "      <td>51521940</td>\n",
       "      <td>Hispanic</td>\n",
       "      <td>1</td>\n",
       "      <td>9</td>\n",
       "      <td>4</td>\n",
       "      <td>39</td>\n",
       "      <td>1</td>\n",
       "      <td>9</td>\n",
       "      <td>...</td>\n",
       "      <td>0</td>\n",
       "      <td>0</td>\n",
       "      <td>0</td>\n",
       "      <td>0</td>\n",
       "      <td>0</td>\n",
       "      <td>0</td>\n",
       "      <td>1</td>\n",
       "      <td>1</td>\n",
       "      <td>6</td>\n",
       "      <td>2</td>\n",
       "    </tr>\n",
       "    <tr>\n",
       "      <td>1</td>\n",
       "      <td>57272</td>\n",
       "      <td>163571946</td>\n",
       "      <td>92631357</td>\n",
       "      <td>Caucasian</td>\n",
       "      <td>1</td>\n",
       "      <td>7</td>\n",
       "      <td>3</td>\n",
       "      <td>34</td>\n",
       "      <td>1</td>\n",
       "      <td>12</td>\n",
       "      <td>...</td>\n",
       "      <td>0</td>\n",
       "      <td>0</td>\n",
       "      <td>0</td>\n",
       "      <td>0</td>\n",
       "      <td>0</td>\n",
       "      <td>0</td>\n",
       "      <td>0</td>\n",
       "      <td>0</td>\n",
       "      <td>0</td>\n",
       "      <td>2</td>\n",
       "    </tr>\n",
       "    <tr>\n",
       "      <td>2</td>\n",
       "      <td>82347</td>\n",
       "      <td>256497366</td>\n",
       "      <td>30023982</td>\n",
       "      <td>Caucasian</td>\n",
       "      <td>0</td>\n",
       "      <td>6</td>\n",
       "      <td>6</td>\n",
       "      <td>50</td>\n",
       "      <td>2</td>\n",
       "      <td>24</td>\n",
       "      <td>...</td>\n",
       "      <td>0</td>\n",
       "      <td>1</td>\n",
       "      <td>0</td>\n",
       "      <td>0</td>\n",
       "      <td>0</td>\n",
       "      <td>1</td>\n",
       "      <td>1</td>\n",
       "      <td>1</td>\n",
       "      <td>5</td>\n",
       "      <td>3</td>\n",
       "    </tr>\n",
       "    <tr>\n",
       "      <td>3</td>\n",
       "      <td>89608</td>\n",
       "      <td>289891212</td>\n",
       "      <td>93606021</td>\n",
       "      <td>AfricanAmerican</td>\n",
       "      <td>0</td>\n",
       "      <td>8</td>\n",
       "      <td>5</td>\n",
       "      <td>63</td>\n",
       "      <td>0</td>\n",
       "      <td>14</td>\n",
       "      <td>...</td>\n",
       "      <td>0</td>\n",
       "      <td>1</td>\n",
       "      <td>0</td>\n",
       "      <td>0</td>\n",
       "      <td>0</td>\n",
       "      <td>1</td>\n",
       "      <td>1</td>\n",
       "      <td>1</td>\n",
       "      <td>0</td>\n",
       "      <td>3</td>\n",
       "    </tr>\n",
       "    <tr>\n",
       "      <td>4</td>\n",
       "      <td>24091</td>\n",
       "      <td>81873900</td>\n",
       "      <td>23464296</td>\n",
       "      <td>Caucasian</td>\n",
       "      <td>1</td>\n",
       "      <td>8</td>\n",
       "      <td>9</td>\n",
       "      <td>17</td>\n",
       "      <td>1</td>\n",
       "      <td>11</td>\n",
       "      <td>...</td>\n",
       "      <td>0</td>\n",
       "      <td>0</td>\n",
       "      <td>0</td>\n",
       "      <td>0</td>\n",
       "      <td>0</td>\n",
       "      <td>0</td>\n",
       "      <td>0</td>\n",
       "      <td>1</td>\n",
       "      <td>0</td>\n",
       "      <td>2</td>\n",
       "    </tr>\n",
       "  </tbody>\n",
       "</table>\n",
       "<p>5 rows × 44 columns</p>\n",
       "</div>"
      ],
      "text/plain": [
       "   index  encounter_id  patient_id             race  gender  age  \\\n",
       "0  69375     197029140    51521940         Hispanic       1    9   \n",
       "1  57272     163571946    92631357        Caucasian       1    7   \n",
       "2  82347     256497366    30023982        Caucasian       0    6   \n",
       "3  89608     289891212    93606021  AfricanAmerican       0    8   \n",
       "4  24091      81873900    23464296        Caucasian       1    8   \n",
       "\n",
       "   time_in_hospital  num_lab_procedures  num_procedures  num_medications  ...  \\\n",
       "0                 4                  39               1                9  ...   \n",
       "1                 3                  34               1               12  ...   \n",
       "2                 6                  50               2               24  ...   \n",
       "3                 5                  63               0               14  ...   \n",
       "4                 9                  17               1               11  ...   \n",
       "\n",
       "   X17  X20  X21 X22 X23 change diabetesMed  readmitted  service_utilization  \\\n",
       "0    0    0    0   0   0      0           1           1                    6   \n",
       "1    0    0    0   0   0      0           0           0                    0   \n",
       "2    0    1    0   0   0      1           1           1                    5   \n",
       "3    0    1    0   0   0      1           1           1                    0   \n",
       "4    0    0    0   0   0      0           0           1                    0   \n",
       "\n",
       "   numchange  \n",
       "0          2  \n",
       "1          2  \n",
       "2          3  \n",
       "3          3  \n",
       "4          2  \n",
       "\n",
       "[5 rows x 44 columns]"
      ]
     },
     "execution_count": 40,
     "metadata": {},
     "output_type": "execute_result"
    }
   ],
   "source": [
    "train1.head()"
   ]
  },
  {
   "cell_type": "code",
   "execution_count": 41,
   "metadata": {
    "colab": {
     "base_uri": "https://localhost:8080/"
    },
    "id": "OItX_gZfgcTk",
    "outputId": "09232933-4195-4f71-a057-b15dc1aa1518"
   },
   "outputs": [
    {
     "data": {
      "text/plain": [
       "0    23182\n",
       "1    14896\n",
       "Name: readmitted, dtype: int64"
      ]
     },
     "execution_count": 41,
     "metadata": {},
     "output_type": "execute_result"
    }
   ],
   "source": [
    "train1['readmitted'].value_counts()"
   ]
  },
  {
   "cell_type": "code",
   "execution_count": 42,
   "metadata": {
    "colab": {
     "base_uri": "https://localhost:8080/"
    },
    "id": "LKe4h1Mbgr-Q",
    "outputId": "306822d7-10b8-4987-bf94-c2e661db7714"
   },
   "outputs": [
    {
     "name": "stdout",
     "output_type": "stream",
     "text": [
      "<class 'pandas.core.frame.DataFrame'>\n",
      "Int64Index: 38078 entries, 0 to 66586\n",
      "Data columns (total 44 columns):\n",
      "index                  38078 non-null int64\n",
      "encounter_id           38078 non-null int64\n",
      "patient_id             38078 non-null int64\n",
      "race                   38078 non-null object\n",
      "gender                 38078 non-null int64\n",
      "age                    38078 non-null int64\n",
      "time_in_hospital       38078 non-null int64\n",
      "num_lab_procedures     38078 non-null int64\n",
      "num_procedures         38078 non-null int64\n",
      "num_medications        38078 non-null int64\n",
      "number_outpatient      38078 non-null int64\n",
      "number_emergency       38078 non-null int64\n",
      "number_inpatient       38078 non-null int64\n",
      "diag_1                 38078 non-null object\n",
      "diag_2                 38078 non-null object\n",
      "diag_3                 38078 non-null object\n",
      "diag_4                 38078 non-null object\n",
      "diag_5                 38078 non-null float64\n",
      "number_diagnoses       38078 non-null int64\n",
      "X1                     38078 non-null int64\n",
      "X2                     38078 non-null int64\n",
      "X3                     38078 non-null int64\n",
      "X4                     38078 non-null int64\n",
      "X5                     38078 non-null int64\n",
      "X6                     38078 non-null int64\n",
      "X7                     38078 non-null int64\n",
      "X9                     38078 non-null int64\n",
      "X10                    38078 non-null int64\n",
      "X11                    38078 non-null int64\n",
      "X12                    38078 non-null int64\n",
      "X13                    38078 non-null int64\n",
      "X14                    38078 non-null int64\n",
      "X15                    38078 non-null int64\n",
      "X16                    38078 non-null int64\n",
      "X17                    38078 non-null int64\n",
      "X20                    38078 non-null int64\n",
      "X21                    38078 non-null int64\n",
      "X22                    38078 non-null int64\n",
      "X23                    38078 non-null int64\n",
      "change                 38078 non-null int64\n",
      "diabetesMed            38078 non-null int64\n",
      "readmitted             38078 non-null int64\n",
      "service_utilization    38078 non-null int64\n",
      "numchange              38078 non-null int64\n",
      "dtypes: float64(1), int64(38), object(5)\n",
      "memory usage: 13.1+ MB\n"
     ]
    }
   ],
   "source": [
    "train1.info()"
   ]
  },
  {
   "cell_type": "code",
   "execution_count": 43,
   "metadata": {
    "id": "JvZrCIGsgvd5"
   },
   "outputs": [],
   "source": [
    "def getCategor(x):\n",
    "    if 'V' in str(x) or 'E' in str(x):\n",
    "        return 0\n",
    "    \n",
    "    x = float(x)\n",
    "    \n",
    "    if (x >= 390 and x <= 459) or np.floor(x) == 785:\n",
    "        return 1\n",
    "    elif (x >= 460 and x <= 519) or np.floor(x) == 786:\n",
    "        return 2\n",
    "    elif (x >= 520 and x <= 579) or np.floor(x) == 787:\n",
    "        return 3\n",
    "    elif np.floor(x) == 250:\n",
    "        return 4\n",
    "    elif x >= 800 and x <= 999:\n",
    "        return 5\n",
    "    elif x >= 710 and x <= 739:\n",
    "        return 6\n",
    "    elif (x >= 580 and x <= 629) or np.floor(x) == 788:\n",
    "        return 7\n",
    "    elif x >= 140 and x <= 239:\n",
    "        return 8\n",
    "    else:\n",
    "        return 0"
   ]
  },
  {
   "cell_type": "code",
   "execution_count": 44,
   "metadata": {
    "colab": {
     "base_uri": "https://localhost:8080/"
    },
    "id": "lEh2ffoZi8Sv",
    "outputId": "168d13f1-4938-476f-a38c-e37dd641a532"
   },
   "outputs": [],
   "source": [
    "#changing the values into categories\n",
    "\n",
    "train1['diag_1_category'] = train['diag_1'].apply(lambda x: getCategor(x))\n",
    "\n",
    "test1['diag_1_category'] = test['diag_1'].apply(lambda x: getCategor(x))"
   ]
  },
  {
   "cell_type": "code",
   "execution_count": 45,
   "metadata": {
    "colab": {
     "base_uri": "https://localhost:8080/"
    },
    "id": "JeHI_caMkdcp",
    "outputId": "05ac361d-a908-4a33-d3ed-e30d0b68b612"
   },
   "outputs": [
    {
     "data": {
      "text/plain": [
       "Index(['index', 'encounter_id', 'patient_id', 'race', 'gender', 'age',\n",
       "       'time_in_hospital', 'num_lab_procedures', 'num_procedures',\n",
       "       'num_medications', 'number_outpatient', 'number_emergency',\n",
       "       'number_inpatient', 'diag_1', 'diag_2', 'diag_3', 'diag_4', 'diag_5',\n",
       "       'number_diagnoses', 'X1', 'X2', 'X3', 'X4', 'X5', 'X6', 'X7', 'X9',\n",
       "       'X10', 'X11', 'X12', 'X13', 'X14', 'X15', 'X16', 'X17', 'X20', 'X21',\n",
       "       'X22', 'X23', 'change', 'diabetesMed', 'readmitted',\n",
       "       'service_utilization', 'numchange', 'diag_1_category'],\n",
       "      dtype='object')"
      ]
     },
     "execution_count": 45,
     "metadata": {},
     "output_type": "execute_result"
    }
   ],
   "source": [
    "train1.columns"
   ]
  },
  {
   "cell_type": "code",
   "execution_count": 46,
   "metadata": {
    "id": "-AleaLgWjKy-"
   },
   "outputs": [],
   "source": [
    "# # selecting necessary columns for train\n",
    "\n",
    "train_final = train1[['race','gender','age','time_in_hospital','num_lab_procedures','num_procedures','num_medications','number_diagnoses','X1','X2','change','diabetesMed','readmitted','service_utilization','numchange','diag_1_category']]\n"
   ]
  },
  {
   "cell_type": "code",
   "execution_count": 47,
   "metadata": {
    "id": "88LUCzUIlR6F"
   },
   "outputs": [],
   "source": [
    "# selecting necessary columns for test\n",
    "\n",
    "test_final = test1[['race','gender','age','time_in_hospital','num_lab_procedures','num_procedures','num_medications','number_diagnoses','X1','X2','change','diabetesMed','service_utilization','numchange','diag_1_category']]\n"
   ]
  },
  {
   "cell_type": "code",
   "execution_count": 48,
   "metadata": {
    "colab": {
     "base_uri": "https://localhost:8080/",
     "height": 224
    },
    "id": "C9EZFQ0KlkCS",
    "outputId": "03bfa2e1-f0c4-45f3-b5ba-7505f8974e6a"
   },
   "outputs": [
    {
     "data": {
      "text/html": [
       "<div>\n",
       "<style scoped>\n",
       "    .dataframe tbody tr th:only-of-type {\n",
       "        vertical-align: middle;\n",
       "    }\n",
       "\n",
       "    .dataframe tbody tr th {\n",
       "        vertical-align: top;\n",
       "    }\n",
       "\n",
       "    .dataframe thead th {\n",
       "        text-align: right;\n",
       "    }\n",
       "</style>\n",
       "<table border=\"1\" class=\"dataframe\">\n",
       "  <thead>\n",
       "    <tr style=\"text-align: right;\">\n",
       "      <th></th>\n",
       "      <th>race</th>\n",
       "      <th>gender</th>\n",
       "      <th>age</th>\n",
       "      <th>time_in_hospital</th>\n",
       "      <th>num_lab_procedures</th>\n",
       "      <th>num_procedures</th>\n",
       "      <th>num_medications</th>\n",
       "      <th>number_diagnoses</th>\n",
       "      <th>X1</th>\n",
       "      <th>X2</th>\n",
       "      <th>change</th>\n",
       "      <th>diabetesMed</th>\n",
       "      <th>readmitted</th>\n",
       "      <th>service_utilization</th>\n",
       "      <th>numchange</th>\n",
       "      <th>diag_1_category</th>\n",
       "    </tr>\n",
       "  </thead>\n",
       "  <tbody>\n",
       "    <tr>\n",
       "      <td>0</td>\n",
       "      <td>Hispanic</td>\n",
       "      <td>1</td>\n",
       "      <td>9</td>\n",
       "      <td>4</td>\n",
       "      <td>39</td>\n",
       "      <td>1</td>\n",
       "      <td>9</td>\n",
       "      <td>9</td>\n",
       "      <td>-99</td>\n",
       "      <td>-99</td>\n",
       "      <td>0</td>\n",
       "      <td>1</td>\n",
       "      <td>1</td>\n",
       "      <td>6</td>\n",
       "      <td>2</td>\n",
       "      <td>0</td>\n",
       "    </tr>\n",
       "    <tr>\n",
       "      <td>1</td>\n",
       "      <td>Caucasian</td>\n",
       "      <td>1</td>\n",
       "      <td>7</td>\n",
       "      <td>3</td>\n",
       "      <td>34</td>\n",
       "      <td>1</td>\n",
       "      <td>12</td>\n",
       "      <td>6</td>\n",
       "      <td>-99</td>\n",
       "      <td>-99</td>\n",
       "      <td>0</td>\n",
       "      <td>0</td>\n",
       "      <td>0</td>\n",
       "      <td>0</td>\n",
       "      <td>2</td>\n",
       "      <td>3</td>\n",
       "    </tr>\n",
       "    <tr>\n",
       "      <td>2</td>\n",
       "      <td>Caucasian</td>\n",
       "      <td>0</td>\n",
       "      <td>6</td>\n",
       "      <td>6</td>\n",
       "      <td>50</td>\n",
       "      <td>2</td>\n",
       "      <td>24</td>\n",
       "      <td>9</td>\n",
       "      <td>-99</td>\n",
       "      <td>-99</td>\n",
       "      <td>1</td>\n",
       "      <td>1</td>\n",
       "      <td>1</td>\n",
       "      <td>5</td>\n",
       "      <td>3</td>\n",
       "      <td>3</td>\n",
       "    </tr>\n",
       "    <tr>\n",
       "      <td>3</td>\n",
       "      <td>AfricanAmerican</td>\n",
       "      <td>0</td>\n",
       "      <td>8</td>\n",
       "      <td>5</td>\n",
       "      <td>63</td>\n",
       "      <td>0</td>\n",
       "      <td>14</td>\n",
       "      <td>7</td>\n",
       "      <td>-99</td>\n",
       "      <td>0</td>\n",
       "      <td>1</td>\n",
       "      <td>1</td>\n",
       "      <td>1</td>\n",
       "      <td>0</td>\n",
       "      <td>3</td>\n",
       "      <td>1</td>\n",
       "    </tr>\n",
       "    <tr>\n",
       "      <td>4</td>\n",
       "      <td>Caucasian</td>\n",
       "      <td>1</td>\n",
       "      <td>8</td>\n",
       "      <td>9</td>\n",
       "      <td>17</td>\n",
       "      <td>1</td>\n",
       "      <td>11</td>\n",
       "      <td>9</td>\n",
       "      <td>1</td>\n",
       "      <td>-99</td>\n",
       "      <td>0</td>\n",
       "      <td>0</td>\n",
       "      <td>1</td>\n",
       "      <td>0</td>\n",
       "      <td>2</td>\n",
       "      <td>0</td>\n",
       "    </tr>\n",
       "  </tbody>\n",
       "</table>\n",
       "</div>"
      ],
      "text/plain": [
       "              race  gender  age  time_in_hospital  num_lab_procedures  \\\n",
       "0         Hispanic       1    9                 4                  39   \n",
       "1        Caucasian       1    7                 3                  34   \n",
       "2        Caucasian       0    6                 6                  50   \n",
       "3  AfricanAmerican       0    8                 5                  63   \n",
       "4        Caucasian       1    8                 9                  17   \n",
       "\n",
       "   num_procedures  num_medications  number_diagnoses  X1  X2  change  \\\n",
       "0               1                9                 9 -99 -99       0   \n",
       "1               1               12                 6 -99 -99       0   \n",
       "2               2               24                 9 -99 -99       1   \n",
       "3               0               14                 7 -99   0       1   \n",
       "4               1               11                 9   1 -99       0   \n",
       "\n",
       "   diabetesMed  readmitted  service_utilization  numchange  diag_1_category  \n",
       "0            1           1                    6          2                0  \n",
       "1            0           0                    0          2                3  \n",
       "2            1           1                    5          3                3  \n",
       "3            1           1                    0          3                1  \n",
       "4            0           1                    0          2                0  "
      ]
     },
     "execution_count": 48,
     "metadata": {},
     "output_type": "execute_result"
    }
   ],
   "source": [
    "#head of the data\n",
    "\n",
    "train_final.head()"
   ]
  },
  {
   "cell_type": "code",
   "execution_count": 49,
   "metadata": {
    "colab": {
     "base_uri": "https://localhost:8080/",
     "height": 224
    },
    "id": "aizKlJERlrlc",
    "outputId": "9110a8ee-2bfb-487e-a7b8-a03420fbc096"
   },
   "outputs": [
    {
     "data": {
      "text/html": [
       "<div>\n",
       "<style scoped>\n",
       "    .dataframe tbody tr th:only-of-type {\n",
       "        vertical-align: middle;\n",
       "    }\n",
       "\n",
       "    .dataframe tbody tr th {\n",
       "        vertical-align: top;\n",
       "    }\n",
       "\n",
       "    .dataframe thead th {\n",
       "        text-align: right;\n",
       "    }\n",
       "</style>\n",
       "<table border=\"1\" class=\"dataframe\">\n",
       "  <thead>\n",
       "    <tr style=\"text-align: right;\">\n",
       "      <th></th>\n",
       "      <th>race</th>\n",
       "      <th>gender</th>\n",
       "      <th>age</th>\n",
       "      <th>time_in_hospital</th>\n",
       "      <th>num_lab_procedures</th>\n",
       "      <th>num_procedures</th>\n",
       "      <th>num_medications</th>\n",
       "      <th>number_diagnoses</th>\n",
       "      <th>X1</th>\n",
       "      <th>X2</th>\n",
       "      <th>change</th>\n",
       "      <th>diabetesMed</th>\n",
       "      <th>service_utilization</th>\n",
       "      <th>numchange</th>\n",
       "      <th>diag_1_category</th>\n",
       "    </tr>\n",
       "  </thead>\n",
       "  <tbody>\n",
       "    <tr>\n",
       "      <td>0</td>\n",
       "      <td>Caucasian</td>\n",
       "      <td>0</td>\n",
       "      <td>8</td>\n",
       "      <td>3</td>\n",
       "      <td>45</td>\n",
       "      <td>3</td>\n",
       "      <td>10</td>\n",
       "      <td>8</td>\n",
       "      <td>-99</td>\n",
       "      <td>-99</td>\n",
       "      <td>0</td>\n",
       "      <td>1</td>\n",
       "      <td>1</td>\n",
       "      <td>2</td>\n",
       "      <td>2</td>\n",
       "    </tr>\n",
       "    <tr>\n",
       "      <td>1</td>\n",
       "      <td>Caucasian</td>\n",
       "      <td>1</td>\n",
       "      <td>7</td>\n",
       "      <td>2</td>\n",
       "      <td>10</td>\n",
       "      <td>1</td>\n",
       "      <td>16</td>\n",
       "      <td>5</td>\n",
       "      <td>-99</td>\n",
       "      <td>-99</td>\n",
       "      <td>0</td>\n",
       "      <td>1</td>\n",
       "      <td>1</td>\n",
       "      <td>2</td>\n",
       "      <td>7</td>\n",
       "    </tr>\n",
       "    <tr>\n",
       "      <td>2</td>\n",
       "      <td>AfricanAmerican</td>\n",
       "      <td>1</td>\n",
       "      <td>8</td>\n",
       "      <td>11</td>\n",
       "      <td>41</td>\n",
       "      <td>1</td>\n",
       "      <td>15</td>\n",
       "      <td>9</td>\n",
       "      <td>-99</td>\n",
       "      <td>0</td>\n",
       "      <td>0</td>\n",
       "      <td>1</td>\n",
       "      <td>1</td>\n",
       "      <td>2</td>\n",
       "      <td>7</td>\n",
       "    </tr>\n",
       "    <tr>\n",
       "      <td>3</td>\n",
       "      <td>Caucasian</td>\n",
       "      <td>0</td>\n",
       "      <td>8</td>\n",
       "      <td>1</td>\n",
       "      <td>71</td>\n",
       "      <td>2</td>\n",
       "      <td>11</td>\n",
       "      <td>9</td>\n",
       "      <td>-99</td>\n",
       "      <td>-99</td>\n",
       "      <td>0</td>\n",
       "      <td>0</td>\n",
       "      <td>0</td>\n",
       "      <td>2</td>\n",
       "      <td>0</td>\n",
       "    </tr>\n",
       "    <tr>\n",
       "      <td>4</td>\n",
       "      <td>AfricanAmerican</td>\n",
       "      <td>0</td>\n",
       "      <td>6</td>\n",
       "      <td>7</td>\n",
       "      <td>59</td>\n",
       "      <td>2</td>\n",
       "      <td>18</td>\n",
       "      <td>7</td>\n",
       "      <td>-99</td>\n",
       "      <td>1</td>\n",
       "      <td>1</td>\n",
       "      <td>1</td>\n",
       "      <td>0</td>\n",
       "      <td>2</td>\n",
       "      <td>7</td>\n",
       "    </tr>\n",
       "  </tbody>\n",
       "</table>\n",
       "</div>"
      ],
      "text/plain": [
       "              race  gender  age  time_in_hospital  num_lab_procedures  \\\n",
       "0        Caucasian       0    8                 3                  45   \n",
       "1        Caucasian       1    7                 2                  10   \n",
       "2  AfricanAmerican       1    8                11                  41   \n",
       "3        Caucasian       0    8                 1                  71   \n",
       "4  AfricanAmerican       0    6                 7                  59   \n",
       "\n",
       "   num_procedures  num_medications  number_diagnoses  X1  X2  change  \\\n",
       "0               3               10                 8 -99 -99       0   \n",
       "1               1               16                 5 -99 -99       0   \n",
       "2               1               15                 9 -99   0       0   \n",
       "3               2               11                 9 -99 -99       0   \n",
       "4               2               18                 7 -99   1       1   \n",
       "\n",
       "   diabetesMed  service_utilization  numchange  diag_1_category  \n",
       "0            1                    1          2                2  \n",
       "1            1                    1          2                7  \n",
       "2            1                    1          2                7  \n",
       "3            0                    0          2                0  \n",
       "4            1                    0          2                7  "
      ]
     },
     "execution_count": 49,
     "metadata": {},
     "output_type": "execute_result"
    }
   ],
   "source": [
    "test_final.head()"
   ]
  },
  {
   "cell_type": "code",
   "execution_count": 50,
   "metadata": {
    "colab": {
     "base_uri": "https://localhost:8080/",
     "height": 349
    },
    "id": "SxCMwajylwR0",
    "outputId": "eb44e28f-107a-43eb-a6e6-9dc7a3205bf0"
   },
   "outputs": [
    {
     "data": {
      "image/png": "[encoded data removed]",
      "text/plain": [
       "<Figure size 432x288 with 1 Axes>"
      ]
     },
     "metadata": {
      "needs_background": "light"
     },
     "output_type": "display_data"
    }
   ],
   "source": [
    "# Data Visualizations\n",
    "# Distribution of Readmission \n",
    "\n",
    "sns.countplot(train_final['readmitted']).set_title('Distribution of Readmission')\n",
    "plt.show()"
   ]
  },
  {
   "cell_type": "code",
   "execution_count": 51,
   "metadata": {
    "colab": {
     "base_uri": "https://localhost:8080/",
     "height": 475
    },
    "id": "-bSxS3k4mEG5",
    "outputId": "ca8278d4-cf46-4327-89bf-c8d42c1496aa"
   },
   "outputs": [
    {
     "data": {
      "text/plain": [
       "Text(0.5, 1.0, 'Time in Hospital VS. Readmission')"
      ]
     },
     "execution_count": 51,
     "metadata": {},
     "output_type": "execute_result"
    },
    {
     "data": {
      "image/png": "[encoded data removed]",
      "text/plain": [
       "<Figure size 936x504 with 1 Axes>"
      ]
     },
     "metadata": {
      "needs_background": "light"
     },
     "output_type": "display_data"
    }
   ],
   "source": [
    "fig = plt.figure(figsize=(13,7),)\n",
    "ax=sns.kdeplot(train_final.loc[(train_final['readmitted'] == 0),'time_in_hospital'] , color='b',shade=True,label='Not Readmitted')\n",
    "ax=sns.kdeplot(train_final.loc[(train_final['readmitted'] == 1),'time_in_hospital'] , color='r',shade=True, label='Readmitted')\n",
    "ax.set(xlabel='Time in Hospital', ylabel='Frequency')\n",
    "plt.title('Time in Hospital VS. Readmission')"
   ]
  },
  {
   "cell_type": "code",
   "execution_count": 52,
   "metadata": {
    "colab": {
     "base_uri": "https://localhost:8080/",
     "height": 638
    },
    "id": "Phcf30EAmbRk",
    "outputId": "b8a4195d-a116-4602-8f6c-fc45e52dab57"
   },
   "outputs": [
    {
     "data": {
      "text/plain": [
       "Text(0.5, 1.0, 'Age of Patient VS. Readmission')"
      ]
     },
     "execution_count": 52,
     "metadata": {},
     "output_type": "execute_result"
    },
    {
     "data": {
      "image/png": "[encoded data removed]",
      "text/plain": [
       "<Figure size 1080x720 with 1 Axes>"
      ]
     },
     "metadata": {
      "needs_background": "light"
     },
     "output_type": "display_data"
    }
   ],
   "source": [
    "fig = plt.figure(figsize=(15,10))\n",
    "sns.countplot(y= train_final['age'], hue = train_final['readmitted']).set_title('Age of Patient VS. Readmission')"
   ]
  },
  {
   "cell_type": "code",
   "execution_count": 53,
   "metadata": {
    "colab": {
     "base_uri": "https://localhost:8080/",
     "height": 514
    },
    "id": "Cum_QcDimwSr",
    "outputId": "c147dbb5-609b-42a2-c432-c3e29b259ab5"
   },
   "outputs": [
    {
     "data": {
      "text/plain": [
       "<matplotlib.axes._subplots.AxesSubplot at 0x2d440a7cec8>"
      ]
     },
     "execution_count": 53,
     "metadata": {},
     "output_type": "execute_result"
    },
    {
     "data": {
      "image/png": "[encoded data removed]",
      "text/plain": [
       "<Figure size 576x576 with 1 Axes>"
      ]
     },
     "metadata": {
      "needs_background": "light"
     },
     "output_type": "display_data"
    }
   ],
   "source": [
    "fig = plt.figure(figsize=(8,8))\n",
    "sns.countplot(y = train_final['race'], hue = train_final['readmitted'])"
   ]
  },
  {
   "cell_type": "code",
   "execution_count": 54,
   "metadata": {
    "colab": {
     "base_uri": "https://localhost:8080/",
     "height": 530
    },
    "id": "KbewQjlom3B3",
    "outputId": "26b5be84-b7f1-4a3f-d98d-24ed353fbc2a"
   },
   "outputs": [
    {
     "data": {
      "text/plain": [
       "Text(0.5, 1.0, 'Number of medication used VS. Readmission')"
      ]
     },
     "execution_count": 54,
     "metadata": {},
     "output_type": "execute_result"
    },
    {
     "data": {
      "image/png": "[encoded data removed]",
      "text/plain": [
       "<Figure size 576x576 with 1 Axes>"
      ]
     },
     "metadata": {
      "needs_background": "light"
     },
     "output_type": "display_data"
    }
   ],
   "source": [
    "fig = plt.figure(figsize=(8,8))\n",
    "sns.barplot(x = train_final['readmitted'], y = train_final['num_medications']).set_title(\"Number of medication used VS. Readmission\")"
   ]
  },
  {
   "cell_type": "code",
   "execution_count": 55,
   "metadata": {
    "colab": {
     "base_uri": "https://localhost:8080/",
     "height": 584
    },
    "id": "fId3ZkIqm92t",
    "outputId": "6eecb615-221c-4215-cc6d-4d3554fa6515"
   },
   "outputs": [
    {
     "data": {
      "text/plain": [
       "Text(0.5, 1.0, 'Gender of Patient VS. Readmission')"
      ]
     },
     "execution_count": 55,
     "metadata": {},
     "output_type": "execute_result"
    },
    {
     "data": {
      "image/png": "[encoded data removed]",
      "text/plain": [
       "<Figure size 576x576 with 1 Axes>"
      ]
     },
     "metadata": {
      "needs_background": "light"
     },
     "output_type": "display_data"
    }
   ],
   "source": [
    "fig = plt.figure(figsize=(8,8))\n",
    "sns.countplot(train_final['gender'], hue = train_final['readmitted']).set_title(\"Gender of Patient VS. Readmission\")"
   ]
  },
  {
   "cell_type": "code",
   "execution_count": 56,
   "metadata": {
    "colab": {
     "base_uri": "https://localhost:8080/",
     "height": 584
    },
    "id": "M98LsVfKnFCq",
    "outputId": "3376a6ce-e29f-4084-b947-283a1a49323e"
   },
   "outputs": [
    {
     "data": {
      "text/plain": [
       "Text(0.5, 1.0, 'Change of Medication VS. Readmission')"
      ]
     },
     "execution_count": 56,
     "metadata": {},
     "output_type": "execute_result"
    },
    {
     "data": {
      "image/png": "[encoded data removed]",
      "text/plain": [
       "<Figure size 576x576 with 1 Axes>"
      ]
     },
     "metadata": {
      "needs_background": "light"
     },
     "output_type": "display_data"
    }
   ],
   "source": [
    "fig = plt.figure(figsize=(8,8))\n",
    "sns.countplot(train_final['change'], hue = train_final['readmitted']).set_title('Change of Medication VS. Readmission')"
   ]
  },
  {
   "cell_type": "code",
   "execution_count": 57,
   "metadata": {
    "colab": {
     "base_uri": "https://localhost:8080/",
     "height": 530
    },
    "id": "ytiVMmnJnMVJ",
    "outputId": "a56551d4-8803-4e49-f1ac-1c34db3b7c82"
   },
   "outputs": [
    {
     "data": {
      "text/plain": [
       "Text(0.5, 1.0, 'Service Utilization VS. Readmission')"
      ]
     },
     "execution_count": 57,
     "metadata": {},
     "output_type": "execute_result"
    },
    {
     "data": {
      "image/png": "[encoded data removed]",
      "text/plain": [
       "<Figure size 576x576 with 1 Axes>"
      ]
     },
     "metadata": {
      "needs_background": "light"
     },
     "output_type": "display_data"
    }
   ],
   "source": [
    "fig = plt.figure(figsize=(8,8))\n",
    "sns.barplot( y = train_final['service_utilization'], x = train_final['readmitted']).set_title('Service Utilization VS. Readmission')"
   ]
  },
  {
   "cell_type": "code",
   "execution_count": 58,
   "metadata": {
    "colab": {
     "base_uri": "https://localhost:8080/"
    },
    "id": "vojHSUgqncHq",
    "outputId": "ce04c3b0-358e-4410-82a3-8d9cc457f33b"
   },
   "outputs": [
    {
     "name": "stdout",
     "output_type": "stream",
     "text": [
      "['race']\n"
     ]
    }
   ],
   "source": [
    "#creating a list of categorical and numeric lists for train\n",
    "\n",
    "categorical = train_final.select_dtypes(include=['object'])\n",
    "print(categorical.columns.values)"
   ]
  },
  {
   "cell_type": "code",
   "execution_count": 59,
   "metadata": {
    "colab": {
     "base_uri": "https://localhost:8080/"
    },
    "id": "ViGTI4K1wsSK",
    "outputId": "264f3aa2-79b0-4ec5-af0c-0672945dd19a"
   },
   "outputs": [
    {
     "name": "stdout",
     "output_type": "stream",
     "text": [
      "['gender' 'age' 'time_in_hospital' 'num_lab_procedures' 'num_procedures'\n",
      " 'num_medications' 'number_diagnoses' 'X1' 'X2' 'change' 'diabetesMed'\n",
      " 'readmitted' 'service_utilization' 'numchange' 'diag_1_category']\n"
     ]
    }
   ],
   "source": [
    "numeric=train_final.select_dtypes(exclude=['object'])\n",
    "print(numeric.columns.values)"
   ]
  },
  {
   "cell_type": "code",
   "execution_count": 60,
   "metadata": {
    "colab": {
     "base_uri": "https://localhost:8080/"
    },
    "id": "itx1b95Nw0GZ",
    "outputId": "0a3e6a00-34d6-42bd-e266-10c106e9908d"
   },
   "outputs": [
    {
     "name": "stdout",
     "output_type": "stream",
     "text": [
      "['race']\n"
     ]
    }
   ],
   "source": [
    "#creating a list of categorical and numeric lists for test\n",
    "\n",
    "categorical_test = test_final.select_dtypes(include=['object'])\n",
    "print(categorical_test.columns.values)"
   ]
  },
  {
   "cell_type": "code",
   "execution_count": 61,
   "metadata": {
    "colab": {
     "base_uri": "https://localhost:8080/"
    },
    "id": "_yn_S5Zsx4As",
    "outputId": "864f1e42-19f9-450a-a9ca-e4336816e3fb"
   },
   "outputs": [
    {
     "name": "stdout",
     "output_type": "stream",
     "text": [
      "['gender' 'age' 'time_in_hospital' 'num_lab_procedures' 'num_procedures'\n",
      " 'num_medications' 'number_diagnoses' 'X1' 'X2' 'change' 'diabetesMed'\n",
      " 'service_utilization' 'numchange' 'diag_1_category']\n"
     ]
    }
   ],
   "source": [
    "numeric_test = test_final.select_dtypes(exclude=['object'])\n",
    "print(numeric_test.columns.values)"
   ]
  },
  {
   "cell_type": "code",
   "execution_count": 62,
   "metadata": {
    "id": "fufMlTWjyARA"
   },
   "outputs": [],
   "source": [
    "# creating dummies for all the categorical variables and deleting the original columns\n",
    "\n",
    "nominal_columns = ['race']\n",
    "dummy_df = pd.get_dummies(train_final[nominal_columns])\n",
    "train_final = pd.concat([train_final, dummy_df], axis=1)\n",
    "train_final = train_final.drop(nominal_columns, axis=1)"
   ]
  },
  {
   "cell_type": "code",
   "execution_count": 63,
   "metadata": {
    "id": "861WUq-wyUbs"
   },
   "outputs": [],
   "source": [
    "dummy_df1 = pd.get_dummies(test_final[nominal_columns])\n",
    "test_final = pd.concat([test_final, dummy_df1], axis=1)\n",
    "test_final = test_final.drop(nominal_columns, axis=1)"
   ]
  },
  {
   "cell_type": "code",
   "execution_count": 64,
   "metadata": {
    "colab": {
     "base_uri": "https://localhost:8080/",
     "height": 224
    },
    "id": "-YG0Sa94yeTY",
    "outputId": "55aac457-02de-4d9c-8ac4-8e3a885a861e"
   },
   "outputs": [
    {
     "data": {
      "text/html": [
       "<div>\n",
       "<style scoped>\n",
       "    .dataframe tbody tr th:only-of-type {\n",
       "        vertical-align: middle;\n",
       "    }\n",
       "\n",
       "    .dataframe tbody tr th {\n",
       "        vertical-align: top;\n",
       "    }\n",
       "\n",
       "    .dataframe thead th {\n",
       "        text-align: right;\n",
       "    }\n",
       "</style>\n",
       "<table border=\"1\" class=\"dataframe\">\n",
       "  <thead>\n",
       "    <tr style=\"text-align: right;\">\n",
       "      <th></th>\n",
       "      <th>gender</th>\n",
       "      <th>age</th>\n",
       "      <th>time_in_hospital</th>\n",
       "      <th>num_lab_procedures</th>\n",
       "      <th>num_procedures</th>\n",
       "      <th>num_medications</th>\n",
       "      <th>number_diagnoses</th>\n",
       "      <th>X1</th>\n",
       "      <th>X2</th>\n",
       "      <th>change</th>\n",
       "      <th>diabetesMed</th>\n",
       "      <th>readmitted</th>\n",
       "      <th>service_utilization</th>\n",
       "      <th>numchange</th>\n",
       "      <th>diag_1_category</th>\n",
       "      <th>race_AfricanAmerican</th>\n",
       "      <th>race_Asian</th>\n",
       "      <th>race_Caucasian</th>\n",
       "      <th>race_Hispanic</th>\n",
       "      <th>race_Other</th>\n",
       "    </tr>\n",
       "  </thead>\n",
       "  <tbody>\n",
       "    <tr>\n",
       "      <td>0</td>\n",
       "      <td>1</td>\n",
       "      <td>9</td>\n",
       "      <td>4</td>\n",
       "      <td>39</td>\n",
       "      <td>1</td>\n",
       "      <td>9</td>\n",
       "      <td>9</td>\n",
       "      <td>-99</td>\n",
       "      <td>-99</td>\n",
       "      <td>0</td>\n",
       "      <td>1</td>\n",
       "      <td>1</td>\n",
       "      <td>6</td>\n",
       "      <td>2</td>\n",
       "      <td>0</td>\n",
       "      <td>0</td>\n",
       "      <td>0</td>\n",
       "      <td>0</td>\n",
       "      <td>1</td>\n",
       "      <td>0</td>\n",
       "    </tr>\n",
       "    <tr>\n",
       "      <td>1</td>\n",
       "      <td>1</td>\n",
       "      <td>7</td>\n",
       "      <td>3</td>\n",
       "      <td>34</td>\n",
       "      <td>1</td>\n",
       "      <td>12</td>\n",
       "      <td>6</td>\n",
       "      <td>-99</td>\n",
       "      <td>-99</td>\n",
       "      <td>0</td>\n",
       "      <td>0</td>\n",
       "      <td>0</td>\n",
       "      <td>0</td>\n",
       "      <td>2</td>\n",
       "      <td>3</td>\n",
       "      <td>0</td>\n",
       "      <td>0</td>\n",
       "      <td>1</td>\n",
       "      <td>0</td>\n",
       "      <td>0</td>\n",
       "    </tr>\n",
       "    <tr>\n",
       "      <td>2</td>\n",
       "      <td>0</td>\n",
       "      <td>6</td>\n",
       "      <td>6</td>\n",
       "      <td>50</td>\n",
       "      <td>2</td>\n",
       "      <td>24</td>\n",
       "      <td>9</td>\n",
       "      <td>-99</td>\n",
       "      <td>-99</td>\n",
       "      <td>1</td>\n",
       "      <td>1</td>\n",
       "      <td>1</td>\n",
       "      <td>5</td>\n",
       "      <td>3</td>\n",
       "      <td>3</td>\n",
       "      <td>0</td>\n",
       "      <td>0</td>\n",
       "      <td>1</td>\n",
       "      <td>0</td>\n",
       "      <td>0</td>\n",
       "    </tr>\n",
       "    <tr>\n",
       "      <td>3</td>\n",
       "      <td>0</td>\n",
       "      <td>8</td>\n",
       "      <td>5</td>\n",
       "      <td>63</td>\n",
       "      <td>0</td>\n",
       "      <td>14</td>\n",
       "      <td>7</td>\n",
       "      <td>-99</td>\n",
       "      <td>0</td>\n",
       "      <td>1</td>\n",
       "      <td>1</td>\n",
       "      <td>1</td>\n",
       "      <td>0</td>\n",
       "      <td>3</td>\n",
       "      <td>1</td>\n",
       "      <td>1</td>\n",
       "      <td>0</td>\n",
       "      <td>0</td>\n",
       "      <td>0</td>\n",
       "      <td>0</td>\n",
       "    </tr>\n",
       "    <tr>\n",
       "      <td>4</td>\n",
       "      <td>1</td>\n",
       "      <td>8</td>\n",
       "      <td>9</td>\n",
       "      <td>17</td>\n",
       "      <td>1</td>\n",
       "      <td>11</td>\n",
       "      <td>9</td>\n",
       "      <td>1</td>\n",
       "      <td>-99</td>\n",
       "      <td>0</td>\n",
       "      <td>0</td>\n",
       "      <td>1</td>\n",
       "      <td>0</td>\n",
       "      <td>2</td>\n",
       "      <td>0</td>\n",
       "      <td>0</td>\n",
       "      <td>0</td>\n",
       "      <td>1</td>\n",
       "      <td>0</td>\n",
       "      <td>0</td>\n",
       "    </tr>\n",
       "  </tbody>\n",
       "</table>\n",
       "</div>"
      ],
      "text/plain": [
       "   gender  age  time_in_hospital  num_lab_procedures  num_procedures  \\\n",
       "0       1    9                 4                  39               1   \n",
       "1       1    7                 3                  34               1   \n",
       "2       0    6                 6                  50               2   \n",
       "3       0    8                 5                  63               0   \n",
       "4       1    8                 9                  17               1   \n",
       "\n",
       "   num_medications  number_diagnoses  X1  X2  change  diabetesMed  readmitted  \\\n",
       "0                9                 9 -99 -99       0            1           1   \n",
       "1               12                 6 -99 -99       0            0           0   \n",
       "2               24                 9 -99 -99       1            1           1   \n",
       "3               14                 7 -99   0       1            1           1   \n",
       "4               11                 9   1 -99       0            0           1   \n",
       "\n",
       "   service_utilization  numchange  diag_1_category  race_AfricanAmerican  \\\n",
       "0                    6          2                0                     0   \n",
       "1                    0          2                3                     0   \n",
       "2                    5          3                3                     0   \n",
       "3                    0          3                1                     1   \n",
       "4                    0          2                0                     0   \n",
       "\n",
       "   race_Asian  race_Caucasian  race_Hispanic  race_Other  \n",
       "0           0               0              1           0  \n",
       "1           0               1              0           0  \n",
       "2           0               1              0           0  \n",
       "3           0               0              0           0  \n",
       "4           0               1              0           0  "
      ]
     },
     "execution_count": 64,
     "metadata": {},
     "output_type": "execute_result"
    }
   ],
   "source": [
    "train_final.head()"
   ]
  },
  {
   "cell_type": "code",
   "execution_count": 65,
   "metadata": {
    "colab": {
     "base_uri": "https://localhost:8080/",
     "height": 224
    },
    "id": "4ntYAV-myhtu",
    "outputId": "8488160e-1abe-48f3-9c47-d3a031645f77"
   },
   "outputs": [
    {
     "data": {
      "text/html": [
       "<div>\n",
       "<style scoped>\n",
       "    .dataframe tbody tr th:only-of-type {\n",
       "        vertical-align: middle;\n",
       "    }\n",
       "\n",
       "    .dataframe tbody tr th {\n",
       "        vertical-align: top;\n",
       "    }\n",
       "\n",
       "    .dataframe thead th {\n",
       "        text-align: right;\n",
       "    }\n",
       "</style>\n",
       "<table border=\"1\" class=\"dataframe\">\n",
       "  <thead>\n",
       "    <tr style=\"text-align: right;\">\n",
       "      <th></th>\n",
       "      <th>gender</th>\n",
       "      <th>age</th>\n",
       "      <th>time_in_hospital</th>\n",
       "      <th>num_lab_procedures</th>\n",
       "      <th>num_procedures</th>\n",
       "      <th>num_medications</th>\n",
       "      <th>number_diagnoses</th>\n",
       "      <th>X1</th>\n",
       "      <th>X2</th>\n",
       "      <th>change</th>\n",
       "      <th>diabetesMed</th>\n",
       "      <th>service_utilization</th>\n",
       "      <th>numchange</th>\n",
       "      <th>diag_1_category</th>\n",
       "      <th>race_AfricanAmerican</th>\n",
       "      <th>race_Asian</th>\n",
       "      <th>race_Caucasian</th>\n",
       "      <th>race_Hispanic</th>\n",
       "      <th>race_Other</th>\n",
       "    </tr>\n",
       "  </thead>\n",
       "  <tbody>\n",
       "    <tr>\n",
       "      <td>0</td>\n",
       "      <td>0</td>\n",
       "      <td>8</td>\n",
       "      <td>3</td>\n",
       "      <td>45</td>\n",
       "      <td>3</td>\n",
       "      <td>10</td>\n",
       "      <td>8</td>\n",
       "      <td>-99</td>\n",
       "      <td>-99</td>\n",
       "      <td>0</td>\n",
       "      <td>1</td>\n",
       "      <td>1</td>\n",
       "      <td>2</td>\n",
       "      <td>2</td>\n",
       "      <td>0</td>\n",
       "      <td>0</td>\n",
       "      <td>1</td>\n",
       "      <td>0</td>\n",
       "      <td>0</td>\n",
       "    </tr>\n",
       "    <tr>\n",
       "      <td>1</td>\n",
       "      <td>1</td>\n",
       "      <td>7</td>\n",
       "      <td>2</td>\n",
       "      <td>10</td>\n",
       "      <td>1</td>\n",
       "      <td>16</td>\n",
       "      <td>5</td>\n",
       "      <td>-99</td>\n",
       "      <td>-99</td>\n",
       "      <td>0</td>\n",
       "      <td>1</td>\n",
       "      <td>1</td>\n",
       "      <td>2</td>\n",
       "      <td>7</td>\n",
       "      <td>0</td>\n",
       "      <td>0</td>\n",
       "      <td>1</td>\n",
       "      <td>0</td>\n",
       "      <td>0</td>\n",
       "    </tr>\n",
       "    <tr>\n",
       "      <td>2</td>\n",
       "      <td>1</td>\n",
       "      <td>8</td>\n",
       "      <td>11</td>\n",
       "      <td>41</td>\n",
       "      <td>1</td>\n",
       "      <td>15</td>\n",
       "      <td>9</td>\n",
       "      <td>-99</td>\n",
       "      <td>0</td>\n",
       "      <td>0</td>\n",
       "      <td>1</td>\n",
       "      <td>1</td>\n",
       "      <td>2</td>\n",
       "      <td>7</td>\n",
       "      <td>1</td>\n",
       "      <td>0</td>\n",
       "      <td>0</td>\n",
       "      <td>0</td>\n",
       "      <td>0</td>\n",
       "    </tr>\n",
       "    <tr>\n",
       "      <td>3</td>\n",
       "      <td>0</td>\n",
       "      <td>8</td>\n",
       "      <td>1</td>\n",
       "      <td>71</td>\n",
       "      <td>2</td>\n",
       "      <td>11</td>\n",
       "      <td>9</td>\n",
       "      <td>-99</td>\n",
       "      <td>-99</td>\n",
       "      <td>0</td>\n",
       "      <td>0</td>\n",
       "      <td>0</td>\n",
       "      <td>2</td>\n",
       "      <td>0</td>\n",
       "      <td>0</td>\n",
       "      <td>0</td>\n",
       "      <td>1</td>\n",
       "      <td>0</td>\n",
       "      <td>0</td>\n",
       "    </tr>\n",
       "    <tr>\n",
       "      <td>4</td>\n",
       "      <td>0</td>\n",
       "      <td>6</td>\n",
       "      <td>7</td>\n",
       "      <td>59</td>\n",
       "      <td>2</td>\n",
       "      <td>18</td>\n",
       "      <td>7</td>\n",
       "      <td>-99</td>\n",
       "      <td>1</td>\n",
       "      <td>1</td>\n",
       "      <td>1</td>\n",
       "      <td>0</td>\n",
       "      <td>2</td>\n",
       "      <td>7</td>\n",
       "      <td>1</td>\n",
       "      <td>0</td>\n",
       "      <td>0</td>\n",
       "      <td>0</td>\n",
       "      <td>0</td>\n",
       "    </tr>\n",
       "  </tbody>\n",
       "</table>\n",
       "</div>"
      ],
      "text/plain": [
       "   gender  age  time_in_hospital  num_lab_procedures  num_procedures  \\\n",
       "0       0    8                 3                  45               3   \n",
       "1       1    7                 2                  10               1   \n",
       "2       1    8                11                  41               1   \n",
       "3       0    8                 1                  71               2   \n",
       "4       0    6                 7                  59               2   \n",
       "\n",
       "   num_medications  number_diagnoses  X1  X2  change  diabetesMed  \\\n",
       "0               10                 8 -99 -99       0            1   \n",
       "1               16                 5 -99 -99       0            1   \n",
       "2               15                 9 -99   0       0            1   \n",
       "3               11                 9 -99 -99       0            0   \n",
       "4               18                 7 -99   1       1            1   \n",
       "\n",
       "   service_utilization  numchange  diag_1_category  race_AfricanAmerican  \\\n",
       "0                    1          2                2                     0   \n",
       "1                    1          2                7                     0   \n",
       "2                    1          2                7                     1   \n",
       "3                    0          2                0                     0   \n",
       "4                    0          2                7                     1   \n",
       "\n",
       "   race_Asian  race_Caucasian  race_Hispanic  race_Other  \n",
       "0           0               1              0           0  \n",
       "1           0               1              0           0  \n",
       "2           0               0              0           0  \n",
       "3           0               1              0           0  \n",
       "4           0               0              0           0  "
      ]
     },
     "execution_count": 65,
     "metadata": {},
     "output_type": "execute_result"
    }
   ],
   "source": [
    "test_final.head()"
   ]
  },
  {
   "cell_type": "code",
   "execution_count": 66,
   "metadata": {
    "id": "0HIJmlwX5XYv"
   },
   "outputs": [],
   "source": [
    "#Modelling and Predictions/Recomendations\n",
    "\n",
    "X = train_final.drop(\"readmitted\",axis=1)\n",
    "y = train_final['readmitted']"
   ]
  },
  {
   "cell_type": "code",
   "execution_count": 67,
   "metadata": {
    "id": "DJnbHIGGz3zB"
   },
   "outputs": [],
   "source": [
    "X_train, X_test, y_train, y_test = train_test_split(X,y, test_size=0.20, random_state=42)"
   ]
  },
  {
   "cell_type": "code",
   "execution_count": 68,
   "metadata": {
    "id": "JHGVWjvZ0ZQY"
   },
   "outputs": [],
   "source": [
    "from sklearn.ensemble import RandomForestClassifier\n",
    "from sklearn.feature_selection import SelectFromModel\n",
    "from sklearn.model_selection import GridSearchCV\n"
   ]
  },
  {
   "cell_type": "code",
   "execution_count": 69,
   "metadata": {
    "id": "eWOLshum0ocE"
   },
   "outputs": [],
   "source": [
    "clf = RandomForestClassifier(n_estimators=64, max_features='sqrt')\n",
    "clf = clf.fit(X_train, y_train)"
   ]
  },
  {
   "cell_type": "code",
   "execution_count": 70,
   "metadata": {
    "id": "4FE8RhRf0rX9"
   },
   "outputs": [],
   "source": [
    "features = pd.DataFrame()\n",
    "features['feature'] = X_train.columns\n",
    "features['importance'] = clf.feature_importances_\n",
    "features.sort_values(by=['importance'], ascending=True, inplace=True)\n",
    "features.set_index('feature', inplace=True)"
   ]
  },
  {
   "cell_type": "code",
   "execution_count": 71,
   "metadata": {
    "colab": {
     "base_uri": "https://localhost:8080/",
     "height": 862
    },
    "id": "ddeIlsYr0xTh",
    "outputId": "fd752e9b-d634-43b7-d852-7d809b279454"
   },
   "outputs": [
    {
     "data": {
      "text/plain": [
       "<matplotlib.axes._subplots.AxesSubplot at 0x2d4485b89c8>"
      ]
     },
     "execution_count": 71,
     "metadata": {},
     "output_type": "execute_result"
    },
    {
     "data": {
      "image/png": "[encoded data removed]",
      "text/plain": [
       "<Figure size 1440x1440 with 1 Axes>"
      ]
     },
     "metadata": {
      "needs_background": "light"
     },
     "output_type": "display_data"
    }
   ],
   "source": [
    "features.plot(kind='barh', figsize=(20, 20))"
   ]
  },
  {
   "cell_type": "code",
   "execution_count": 72,
   "metadata": {
    "id": "2oeKLTbj00W1"
   },
   "outputs": [],
   "source": [
    "from xgboost import XGBClassifier"
   ]
  },
  {
   "cell_type": "code",
   "execution_count": 73,
   "metadata": {
    "id": "xCvYgOxe1iB9"
   },
   "outputs": [],
   "source": [
    "xgb = XGBClassifier(max_depth=7, n_estimators=200)"
   ]
  },
  {
   "cell_type": "code",
   "execution_count": 74,
   "metadata": {
    "colab": {
     "base_uri": "https://localhost:8080/"
    },
    "id": "Dbb1m-7x1ri7",
    "outputId": "3f178dfd-ca8d-43a0-e609-d9fddec4a9bf"
   },
   "outputs": [
    {
     "name": "stdout",
     "output_type": "stream",
     "text": [
      "[17:08:46] WARNING: C:/Users/Administrator/workspace/xgboost-win64_release_1.3.0/src/learner.cc:1061: Starting in XGBoost 1.3.0, the default evaluation metric used with the objective 'binary:logistic' was changed from 'error' to 'logloss'. Explicitly set eval_metric if you'd like to restore the old behavior.\n"
     ]
    },
    {
     "data": {
      "text/plain": [
       "XGBClassifier(base_score=0.5, booster='gbtree', colsample_bylevel=1,\n",
       "              colsample_bynode=1, colsample_bytree=1, gamma=0, gpu_id=-1,\n",
       "              importance_type='gain', interaction_constraints='',\n",
       "              learning_rate=0.300000012, max_delta_step=0, max_depth=7,\n",
       "              min_child_weight=1, missing=nan, monotone_constraints='()',\n",
       "              n_estimators=200, n_jobs=8, num_parallel_tree=1,\n",
       "              objective='binary:logistic', random_state=0, reg_alpha=0,\n",
       "              reg_lambda=1, scale_pos_weight=1, subsample=1,\n",
       "              tree_method='exact', use_label_encoder=True,\n",
       "              validate_parameters=1, verbosity=None)"
      ]
     },
     "execution_count": 74,
     "metadata": {},
     "output_type": "execute_result"
    }
   ],
   "source": [
    "xgb.fit(X_train, y_train)"
   ]
  },
  {
   "cell_type": "code",
   "execution_count": 75,
   "metadata": {
    "id": "zuZb4FK-1v_3"
   },
   "outputs": [],
   "source": [
    "y_prediction = xgb.predict(X_test)"
   ]
  },
  {
   "cell_type": "code",
   "execution_count": 76,
   "metadata": {
    "id": "NKSDKBBo3quS"
   },
   "outputs": [],
   "source": [
    "#Performance Evaluation of Model using F1 score\n",
    "\n",
    "from sklearn.metrics import f1_score"
   ]
  },
  {
   "cell_type": "code",
   "execution_count": 77,
   "metadata": {
    "colab": {
     "base_uri": "https://localhost:8080/"
    },
    "id": "7180XgoV36ie",
    "outputId": "2ed57cd9-1dd5-4393-86a6-48aa6188443b"
   },
   "outputs": [
    {
     "name": "stdout",
     "output_type": "stream",
     "text": [
      "F1 score of model is :  0.44804687499999996\n"
     ]
    }
   ],
   "source": [
    "f1_score = f1_score(y_test, y_prediction)\n",
    "print(\"F1 score of model is : \", f1_score)"
   ]
  },
  {
   "cell_type": "code",
   "execution_count": 78,
   "metadata": {
    "id": "AvCFS3hT6J34"
   },
   "outputs": [],
   "source": [
    "#Prediction on test data using trained model.\n",
    "\n",
    "y_pred = xgb.predict(test_final)"
   ]
  },
  {
   "cell_type": "code",
   "execution_count": 79,
   "metadata": {
    "id": "jXltDiMZ6YgU"
   },
   "outputs": [],
   "source": [
    "submission_df = pd.DataFrame(columns=['encounter_id','prediction'])"
   ]
  },
  {
   "cell_type": "code",
   "execution_count": 80,
   "metadata": {
    "id": "AjsJryl86hn1"
   },
   "outputs": [],
   "source": [
    "submission_df['encounter_id'] = test1['encounter_id']\n",
    "submission_df['prediction'] = list(y_pred)"
   ]
  },
  {
   "cell_type": "code",
   "execution_count": 81,
   "metadata": {
    "id": "b0-fYIqQ6tc-"
   },
   "outputs": [],
   "source": [
    "submission_df.to_csv(\"submission.csv\")"
   ]
  },
  {
   "cell_type": "code",
   "execution_count": null,
   "metadata": {
    "id": "QyLG72HF60hB"
   },
   "outputs": [],
   "source": []
  }
 ],
 "metadata": {
  "colab": {
   "name": "Hospital_Readmission_Prediction.ipynb",
   "provenance": []
  },
  "kernelspec": {
   "display_name": "Python 3",
   "language": "python",
   "name": "python3"
  },
  "language_info": {
   "codemirror_mode": {
    "name": "ipython",
    "version": 3
   },
   "file_extension": ".py",
   "mimetype": "text/x-python",
   "name": "python",
   "nbconvert_exporter": "python",
   "pygments_lexer": "ipython3",
   "version": "3.7.4"
  }
 },
 "nbformat": 4,
 "nbformat_minor": 1
}
